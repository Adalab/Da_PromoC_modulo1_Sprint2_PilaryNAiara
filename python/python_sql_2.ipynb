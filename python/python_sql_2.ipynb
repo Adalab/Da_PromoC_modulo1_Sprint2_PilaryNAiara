{
 "cells": [
  {
   "cell_type": "code",
   "execution_count": 3,
   "metadata": {},
   "outputs": [],
   "source": [
    "# Importamos librería\n",
    "import mysql.connector\n",
    "\n",
    "# Importamos la librería para los errores\n",
    "from mysql.connector import errorcode\n",
    "\n",
    "try:\n",
    "    cnx = mysql.connector.connect(user = 'root', password = 'AlumnaAdalab', host = '127.0.0.1')\n",
    "   \n",
    "# en el caso de que haya errores\n",
    "except mysql.connector.Error as err:\n",
    "    if err.errno == errorcode.ER_ACCESS_DENIED_ERROR:\n",
    "        print(\"Something is wrong with your user name or password\")\n",
    "    elif err.errno == errorcode.ER_BAD_DB_ERROR:\n",
    "        print(\"Database does not exist\")\n",
    "    else:\n",
    "        print(err)\n",
    "else:\n",
    "    cnx.close()"
   ]
  },
  {
   "cell_type": "code",
   "execution_count": 4,
   "metadata": {},
   "outputs": [
    {
     "name": "stdout",
     "output_type": "stream",
     "text": [
      "MySQLCursor: CREATE DATABASE mi_primerita_BBDD_Python\n"
     ]
    }
   ],
   "source": [
    "# creamos nuestra bbdd\n",
    "\n",
    "\n",
    "cnx = mysql.connector.connect(user = 'root', password = 'AlumnaAdalab', host = '127.0.0.1')\n",
    "my_cursor = cnx.cursor()\n",
    "try: \n",
    "    my_cursor.execute(\"CREATE DATABASE mi_primerita_BBDD_Python\")\n",
    "    print(my_cursor)\n",
    "except mysql.connector.Error as err:\n",
    "    print(err)\n",
    "    print(\"Error Code:\", err.errno)\n",
    "    print(\"SQLSTATE\", err.sqlstate)\n",
    "    print(\"Message\", err.msg)\n",
    "else: \n",
    "    cnx.close()\n",
    "\n"
   ]
  },
  {
   "cell_type": "markdown",
   "metadata": {},
   "source": [
    "Creamos una función que nos sirva para crear tablas independientemente del contenido de la tabla. \n",
    "La función recibirá como parámetros:\n",
    "-Contraseña de la conexión al servidor.\n",
    "-Query para crear la tabla."
   ]
  },
  {
   "cell_type": "code",
   "execution_count": 5,
   "metadata": {},
   "outputs": [],
   "source": [
    "def creacion_tabla (contraseña,query):\n",
    "    cnx = mysql.connector.connect(user = 'root', password = contraseña, host = '127.0.0.1', database = \"mi_primerita_BBDD_Python\")\n",
    "    my_cursor = cnx.cursor()\n",
    "    try:\n",
    "        my_cursor.execute(query)\n",
    "        print(my_cursor)\n",
    "    except mysql.connector.Error as err:\n",
    "        print(err)\n",
    "        print(\"Error Code:\", err.errno)\n",
    "        print(\"SQLSTATE\", err.sqlstate)\n",
    "        print(\"Message\", err.msg)\n",
    "    else: \n",
    "        cnx.close()\n",
    "    print (\"la tabla ha sido creada\")\n"
   ]
  },
  {
   "cell_type": "code",
   "execution_count": 6,
   "metadata": {},
   "outputs": [],
   "source": [
    "query_zapatillas = \"\"\"CREATE TABLE zapatillas (\n",
    "                        idZapatillas INT NOT NULL AUTO_INCREMENT, Modelo VARCHAR(45) NOT NULL, Color VARCHAR(45) NOT NULL, Talla INT NOT NULL, \n",
    "                        PRIMARY KEY (idZapatillas)) \"\"\" "
   ]
  },
  {
   "cell_type": "code",
   "execution_count": 7,
   "metadata": {},
   "outputs": [],
   "source": [
    "contraseña = \"AlumnaAdalab\""
   ]
  },
  {
   "cell_type": "code",
   "execution_count": 8,
   "metadata": {},
   "outputs": [
    {
     "name": "stdout",
     "output_type": "stream",
     "text": [
      "MySQLCursor: CREATE TABLE zapatillas (\n",
      "              ..\n",
      "la tabla ha sido creada\n"
     ]
    }
   ],
   "source": [
    "creacion_tabla(contraseña,query_zapatillas)"
   ]
  },
  {
   "cell_type": "code",
   "execution_count": 24,
   "metadata": {},
   "outputs": [],
   "source": [
    "query_clientes = \"\"\"CREATE TABLE clientes (\n",
    "                    idCliente INT NOT NULL AUTO_INCREMENT, Nombre VARCHAR(45) NOT NULL, Numero_telefono INT(9) NOT NULL, Email VARCHAR(45) NOT NULL, \n",
    "                    Direccion VARCHAR(45) NOT NULL, Ciudad VARCHAR(45) NOT NULL, Provincia VARCHAR(45) NOT NULL, Pais VARCHAR(45) NOT NULL, Codigo_postal INT(9) NOT NULL,\n",
    "                    PRIMARY KEY (idCliente))\"\"\""
   ]
  },
  {
   "cell_type": "code",
   "execution_count": 25,
   "metadata": {},
   "outputs": [
    {
     "name": "stdout",
     "output_type": "stream",
     "text": [
      "MySQLCursor: CREATE TABLE clientes (\n",
      "                ..\n",
      "la tabla ha sido creada\n"
     ]
    }
   ],
   "source": [
    "creacion_tabla(contraseña,query_clientes)"
   ]
  },
  {
   "cell_type": "code",
   "execution_count": 28,
   "metadata": {},
   "outputs": [],
   "source": [
    "query_empleados = \"\"\"CREATE TABLE Empleados(\n",
    "                    idEmpleado INT NOT NULL AUTO_INCREMENT, Nombre VARCHAR(45) NOT NULL, Tienda VARCHAR(45) NOT NULL, salario FLOAT, fecha_incorporacion DATE NOT NULL,\n",
    "                    PRIMARY KEY (idEmpleado)) \"\"\""
   ]
  },
  {
   "cell_type": "code",
   "execution_count": 29,
   "metadata": {},
   "outputs": [
    {
     "name": "stdout",
     "output_type": "stream",
     "text": [
      "MySQLCursor: CREATE TABLE Empleados(\n",
      "                ..\n",
      "la tabla ha sido creada\n"
     ]
    }
   ],
   "source": [
    "creacion_tabla(contraseña,query_empleados)"
   ]
  },
  {
   "cell_type": "markdown",
   "metadata": {},
   "source": [
    "Vamos a haer una correcion, por un problema con el enunciado"
   ]
  },
  {
   "cell_type": "code",
   "execution_count": 19,
   "metadata": {},
   "outputs": [
    {
     "name": "stdout",
     "output_type": "stream",
     "text": [
      "tabla eliminada\n"
     ]
    }
   ],
   "source": [
    "cnx = mysql.connector.connect(user = 'root', password = 'AlumnaAdalab', host = '127.0.0.1',database = \"mi_primerita_BBDD_Python\")\n",
    "my_cursor = cnx.cursor()\n",
    "try: \n",
    "    my_cursor.execute(\"DROP TABLE clientes\")\n",
    "    cnx.commit()\n",
    "    print(\"tabla eliminada\")\n",
    "except mysql.connector.Error as err:\n",
    "    print(err)\n",
    "    print(\"Error Code:\", err.errno)\n",
    "    print(\"SQLSTATE\", err.sqlstate)\n",
    "    print(\"Message\", err.msg)\n",
    "else: \n",
    "    my_cursor.close()\n",
    "    cnx.close()"
   ]
  },
  {
   "cell_type": "markdown",
   "metadata": {},
   "source": [
    "Tabla Facturas: tiene 5 columnas idFactura, idEmpleado, idCliente, fecha, total con las siguientes características:\n",
    "idFactura: es una clave primaria de tipo int, autoincremental y no nula.\n",
    "idEmpleado: es una clave foránea de tipo int, no nula.\n",
    "idCliente: es una clave foránea de tipo int, no nula.\n",
    "idZapatilla: es una clave foránea de tipo int, no nula\n",
    "Fecha: es una columna de tipo date, no nula.\n",
    "Total: es decimal, no nula."
   ]
  },
  {
   "cell_type": "code",
   "execution_count": 31,
   "metadata": {},
   "outputs": [],
   "source": [
    "query_Facturas = \"\"\"CREATE TABLE Facturas (idFactura INT AUTO_INCREMENT NOT NULL, idEmpleado INT NOT NULL, idCliente INT, NOT NULL, idZapatilla INT NOT NULL, Fecha DATE NOT NULL,\n",
    "                    Total FLOAT NOT NULL,  PRIMARY KEY (idFactura), CONSTRAINT FK_empleados_Facturas FOREIGN KEY (idEmpleado) reference Empleados (idEmpleados) ON DELETE CASCADE ON UPDATE CASCADE, CONSTRAINT FK_clientes_Facturas FOREIGN KEY (idCliente) reference Clientess (idCliente) ON DELETE CASCADE ON UPDATE CASCADE,\n",
    "                    CONSTRAINT FK_zapatillas_Facturas FOREIGN KEY (idZapatilla) reference Zapatillas (idZapatilla) ON DELETE CASCADE ON UPDATE CASCADE)\"\"\""
   ]
  }
 ],
 "metadata": {
  "kernelspec": {
   "display_name": "Python 3.10.8 64-bit (microsoft store)",
   "language": "python",
   "name": "python3"
  },
  "language_info": {
   "codemirror_mode": {
    "name": "ipython",
    "version": 3
   },
   "file_extension": ".py",
   "mimetype": "text/x-python",
   "name": "python",
   "nbconvert_exporter": "python",
   "pygments_lexer": "ipython3",
   "version": "3.10.8"
  },
  "orig_nbformat": 4,
  "vscode": {
   "interpreter": {
    "hash": "1ea59b95c08c44cbfc884ec03159e00f96e4bf3b6d22daf6aa1f91dffc766d1d"
   }
  }
 },
 "nbformat": 4,
 "nbformat_minor": 2
}
