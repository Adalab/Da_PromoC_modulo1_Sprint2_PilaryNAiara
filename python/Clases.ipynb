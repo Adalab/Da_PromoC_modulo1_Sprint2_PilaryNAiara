{
 "cells": [
  {
   "cell_type": "markdown",
   "metadata": {},
   "source": [
    "Pair programming\n",
    "\n",
    "En este ejercicio de pair programming crearemos una clase. Imaginemos que nuestro jefe nos pide que creemos una clase para tener más ordenada la información sobre cada uno de los empleados de la empresa. Para ello:\n",
    "\n",
    "- Definid una clase que se llame Empleados\n",
    "\n",
    "- Definid los siguientes atributos que caracterizan a nuestros empleados:\n",
    "nombre, apellido, edad, posición que ocupa en la empresa, año en que entró en la empresa, número de días de vacaciones que tiene, las herramientas que usa cada uno de ellos, por ejemplo, Outlook, excel y word. Deberá ser una lista.\n",
    "\n",
    "- Cread una instancia para la clase creada\n",
    "\n",
    "- Definid los siguientes métodos: \n",
    "    - descripción: \n",
    "        El return deberá ser un string en el que aparezca el nombre, apellidos, los años que lleva en la empresa y los días de vacaciones que le quedan. Este método deberá devolver algo como esto:\n",
    "        \"El/ella, es Lorena, Data Analyst, quien lleva con nostros en la empresa desde 2000. Además este año le quedan 15 dias de vacaciones\"\n",
    "    - calculo_vacaciones: \n",
    "        - Deberá contener input que nos pregunte cuántos días te quieres ir de vacaciones.\n",
    "        -   Luego deberemos restar el número de días que se fue de vacaciones a el número total de vacaciones que tiene ese empleado.\n",
    "        - Una condición que chequee si:\n",
    "            - Si el numero de vacaciones que tiene el empleado es igual a 0, devolved un mensaje que diga que se le acabaron las vacaciones\n",
    "            - Si el número de días que se quiere ir de vacaciones es mayor que el número de vacaciones que le quedan, devolved un mensaje que diga que no se puede ir tantos de vacaciones\n",
    "            - En caso de que no se cumplan ninguna de estas condiciones, que nos devuelva el número de vacaciones que le quedan al empleado.\n",
    "    - cambiando_posicion\n",
    "        - Iteraremos por la lista de herramientas que usa el empleado:\n",
    "            - Si el empleado usa \"Python\" devolveremos un mensaje de bien hecho!\n",
    "            - Si el empleado usa \"Excel\" le recomendaremos amigablemente que deje excel y empiece a usar Excel\n",
    "Happy coding 💻"
   ]
  },
  {
   "cell_type": "code",
   "execution_count": 38,
   "metadata": {},
   "outputs": [],
   "source": [
    "class Empleados:\n",
    "    def __init__(self, nombre, apellido, edad, posicion, year, vacaciones, herramientas):\n",
    "        # Definimos los siguientes atributos que caracterizan a nuestros empleados:\n",
    "\n",
    "        self.nombre = nombre\n",
    "\n",
    "        self.apellido = apellido\n",
    "\n",
    "        self.edad = edad\n",
    "\n",
    "        # puesto que ocupa en la empresa\n",
    "        self.posicion = posicion\n",
    "        \n",
    "        # año de incorporación a la empresa\n",
    "        self.year = year\n",
    "\n",
    "        # número de días de vacaciones que le quedan\n",
    "        self.vacaciones = vacaciones\n",
    "\n",
    "        # herramientas que conoce\n",
    "        self.herramientas = herramientas\n",
    "\n",
    "\n",
    "    # Definimos el método descripción\n",
    "    def descripcion(self):\n",
    "        return f\"Es {self.nombre}, {self.posicion}, quien lleva con nosotros en la empresa desde {self.year}. Ademas este año le quedan {self.vacaciones} dias de vacaciones\"\n",
    "\n",
    "    # Definimos el método calculo_vacaciones\n",
    "    def calculo_vacaciones(self):\n",
    "        dias_vacaciones = int(input(\"¿Cuántos días te quieres ir de vacaciones\"))\n",
    "        # para conocer el número de días de vacaciones que le quedan\n",
    "        resta_vacaciones = self.vacaciones - dias_vacaciones\n",
    "        if resta_vacaciones == 0:\n",
    "            return \"Se te han acabado las vacaciones\"\n",
    "        elif resta_vacaciones < 0:\n",
    "            return \"No te puedes ir tantos días de vacaciones\"\n",
    "        else:\n",
    "            return f\"Te quedan {resta_vacaciones} días de vacaciones\"\n",
    "\n",
    "    # Definimos el método cambiando_posicion\n",
    "    def cambiando_posicion(self):\n",
    "        for herramienta in self.herramientas:\n",
    "            if herramienta == \"Python\":\n",
    "                return \"Bien hecho!\"\n",
    "            if herramienta == \"Excel\":\n",
    "                return \"Te recomiendo que te pases a Python.\""
   ]
  },
  {
   "cell_type": "markdown",
   "metadata": {},
   "source": [
    "Creamos la instancia para la clase creada"
   ]
  },
  {
   "cell_type": "code",
   "execution_count": 39,
   "metadata": {},
   "outputs": [],
   "source": [
    "empleado = Empleados(\"Lorena\", \"López\", 30, \"Secretaria\", 2015, 15, [\"Outlook\", \"Excel\", \"Word\"])"
   ]
  },
  {
   "cell_type": "markdown",
   "metadata": {},
   "source": [
    "Llamamos a la función y nos devuelve el identificador de la función."
   ]
  },
  {
   "cell_type": "code",
   "execution_count": 40,
   "metadata": {},
   "outputs": [
    {
     "data": {
      "text/plain": [
       "<__main__.Empleados at 0x7f6081a6ba00>"
      ]
     },
     "execution_count": 40,
     "metadata": {},
     "output_type": "execute_result"
    }
   ],
   "source": [
    "empleado"
   ]
  },
  {
   "cell_type": "markdown",
   "metadata": {},
   "source": [
    "Llamamos a los métodos creados."
   ]
  },
  {
   "cell_type": "code",
   "execution_count": 41,
   "metadata": {},
   "outputs": [
    {
     "data": {
      "text/plain": [
       "'Es Lorena, Secretaria, quien lleva con nosotros en la empresa desde 2015. Ademas este año le quedan 15 dias de vacaciones'"
      ]
     },
     "execution_count": 41,
     "metadata": {},
     "output_type": "execute_result"
    }
   ],
   "source": [
    "empleado.descripcion()"
   ]
  },
  {
   "cell_type": "code",
   "execution_count": 44,
   "metadata": {},
   "outputs": [
    {
     "data": {
      "text/plain": [
       "'Te quedan 12 días de vacaciones'"
      ]
     },
     "execution_count": 44,
     "metadata": {},
     "output_type": "execute_result"
    }
   ],
   "source": [
    "empleado.calculo_vacaciones()"
   ]
  },
  {
   "cell_type": "code",
   "execution_count": 45,
   "metadata": {},
   "outputs": [
    {
     "data": {
      "text/plain": [
       "'Te recomiendo que te pases a Python.'"
      ]
     },
     "execution_count": 45,
     "metadata": {},
     "output_type": "execute_result"
    }
   ],
   "source": [
    "empleado.cambiando_posicion()"
   ]
  }
 ],
 "metadata": {
  "kernelspec": {
   "display_name": "Python 3.9.7 ('base')",
   "language": "python",
   "name": "python3"
  },
  "language_info": {
   "codemirror_mode": {
    "name": "ipython",
    "version": 3
   },
   "file_extension": ".py",
   "mimetype": "text/x-python",
   "name": "python",
   "nbconvert_exporter": "python",
   "pygments_lexer": "ipython3",
   "version": "3.9.7"
  },
  "orig_nbformat": 4,
  "vscode": {
   "interpreter": {
    "hash": "6e8aefa1bb798882dbdb84db5119449300b1df017c6fd8f01a2c188a17dff6eb"
   }
  }
 },
 "nbformat": 4,
 "nbformat_minor": 2
}
