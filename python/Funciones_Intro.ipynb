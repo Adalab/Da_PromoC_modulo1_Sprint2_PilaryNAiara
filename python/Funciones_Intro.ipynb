{
 "cells": [
  {
   "cell_type": "markdown",
   "metadata": {},
   "source": [
    "1. Cread una función que reciba 2 números enteros en forma de string como entrada, y dé como resultado la suma (también en forma de string)\n",
    "Condiciones: \n",
    "Si los dos parámetros que recibe la función son strings vacíos la función nos debe devolver \"0\"\n",
    "Si el primer parámetro es un string vacío, la función nos devuelve el valor del segundo parámetro y viceversa."
   ]
  },
  {
   "cell_type": "code",
   "execution_count": 3,
   "metadata": {},
   "outputs": [],
   "source": [
    "def suma_string(num_1,num_2):\n",
    "    if num_1 == \"\" and num_2 == \"\":\n",
    "        return \"0\"\n",
    "    elif num_1 == \"\" or num_2 == \"\":\n",
    "        if num_1== \"\":\n",
    "            return num_2\n",
    "        else:\n",
    "            return num_1\n",
    "    else:\n",
    "        resultado =int(num_1) + int(num_2)\n",
    "        return str(resultado)\n",
    "\n"
   ]
  },
  {
   "cell_type": "code",
   "execution_count": 4,
   "metadata": {},
   "outputs": [
    {
     "data": {
      "text/plain": [
       "'9'"
      ]
     },
     "execution_count": 4,
     "metadata": {},
     "output_type": "execute_result"
    }
   ],
   "source": [
    "suma_string(\"4\",\"5\")"
   ]
  },
  {
   "cell_type": "code",
   "execution_count": 5,
   "metadata": {},
   "outputs": [
    {
     "data": {
      "text/plain": [
       "'39'"
      ]
     },
     "execution_count": 5,
     "metadata": {},
     "output_type": "execute_result"
    }
   ],
   "source": [
    "suma_string(\"34\",\"5\")"
   ]
  },
  {
   "cell_type": "code",
   "execution_count": 6,
   "metadata": {},
   "outputs": [
    {
     "data": {
      "text/plain": [
       "'0'"
      ]
     },
     "execution_count": 6,
     "metadata": {},
     "output_type": "execute_result"
    }
   ],
   "source": [
    "suma_string(\"\",\"\")"
   ]
  },
  {
   "cell_type": "code",
   "execution_count": 7,
   "metadata": {},
   "outputs": [
    {
     "data": {
      "text/plain": [
       "'2'"
      ]
     },
     "execution_count": 7,
     "metadata": {},
     "output_type": "execute_result"
    }
   ],
   "source": [
    "suma_string(\"2\",\"\")"
   ]
  },
  {
   "cell_type": "code",
   "execution_count": 8,
   "metadata": {},
   "outputs": [
    {
     "data": {
      "text/plain": [
       "'-2'"
      ]
     },
     "execution_count": 8,
     "metadata": {},
     "output_type": "execute_result"
    }
   ],
   "source": [
    "suma_string(\"-5\",\"3\")"
   ]
  },
  {
   "cell_type": "markdown",
   "metadata": {},
   "source": [
    "2. El objetivo es comparar cada par de enteros de 2 listas, y devolver una nueva lista con el número mayor de la comapración..\n",
    "Probad la función para las siguientes listas: \n",
    "\n",
    "arr1 = [13, 64, 15, 17, 88]\n",
    "\n",
    "arr2 = [23, 14, 53, 17, 80]\n",
    "\n",
    "resultado = [23, 64, 53, 17, 88]"
   ]
  },
  {
   "cell_type": "code",
   "execution_count": 1,
   "metadata": {},
   "outputs": [],
   "source": [
    "arr1 = [13, 64, 15, 17, 88]\n",
    "arr2 = [23, 14, 53, 17, 80]"
   ]
  },
  {
   "cell_type": "code",
   "execution_count": 3,
   "metadata": {},
   "outputs": [],
   "source": [
    "def comparar_listas (lista_1, lista_2):\n",
    "    lista_tuplas =list(zip (lista_1,lista_2))\n",
    "    resultado = []\n",
    "    for lista in lista_tuplas:\n",
    "        resultado.append(max(lista))\n",
    "    return resultado"
   ]
  },
  {
   "cell_type": "code",
   "execution_count": 4,
   "metadata": {},
   "outputs": [
    {
     "name": "stdout",
     "output_type": "stream",
     "text": [
      "resultado =  [23, 64, 53, 17, 88]\n"
     ]
    }
   ],
   "source": [
    "resultado = comparar_listas(arr1, arr2)\n",
    "print(\"resultado = \", resultado)"
   ]
  },
  {
   "cell_type": "markdown",
   "metadata": {},
   "source": [
    "3. El objetivo de este ejercicio es convertir un string en un nuevo string en el que cada carácter del nuevo string es \"(\" si ese carácter aparece sólo una vez en el string original, o \")\" si ese carácter aparece más de una vez en el string. Nuestro código no tiene que ser case sensitive, es decir, si hay una letra en mayúscula y en minúscula cuenta como dos apariciones."
   ]
  },
  {
   "cell_type": "code",
   "execution_count": 5,
   "metadata": {},
   "outputs": [],
   "source": [
    "def convertir_string(string_entrada):\n",
    "    string_entrada = string_entrada.upper()\n",
    "    lista_string = list(string_entrada)\n",
    "    string_codificado = []\n",
    "    for i in lista_string:\n",
    "        if lista_string.count(i) > 1:\n",
    "            string_codificado.append(\")\")\n",
    "        else:\n",
    "            string_codificado.append(\"(\")\n",
    "    string_codificado = \"\".join(string_codificado)\n",
    "    return string_codificado"
   ]
  },
  {
   "cell_type": "code",
   "execution_count": 6,
   "metadata": {},
   "outputs": [
    {
     "name": "stdout",
     "output_type": "stream",
     "text": [
      "din => (((\n"
     ]
    }
   ],
   "source": [
    "print(\"din =>\", convertir_string(\"din\"))"
   ]
  },
  {
   "cell_type": "code",
   "execution_count": 7,
   "metadata": {},
   "outputs": [
    {
     "name": "stdout",
     "output_type": "stream",
     "text": [
      "recede => ()()()\n"
     ]
    }
   ],
   "source": [
    "print(\"recede =>\", convertir_string(\"recede\"))"
   ]
  },
  {
   "cell_type": "code",
   "execution_count": 8,
   "metadata": {},
   "outputs": [
    {
     "name": "stdout",
     "output_type": "stream",
     "text": [
      "Success => )())())\n"
     ]
    }
   ],
   "source": [
    "print(\"Success =>\", convertir_string(\"Success\"))"
   ]
  },
  {
   "cell_type": "code",
   "execution_count": 9,
   "metadata": {},
   "outputs": [
    {
     "name": "stdout",
     "output_type": "stream",
     "text": [
      "(( @ => ))((\n"
     ]
    }
   ],
   "source": [
    "print(\"(( @ =>\", convertir_string(\"(( @\"))"
   ]
  },
  {
   "cell_type": "code",
   "execution_count": 10,
   "metadata": {},
   "outputs": [
    {
     "name": "stdout",
     "output_type": "stream",
     "text": [
      "Ocvl@GamFLAFkixkS => ((()(()()))))(()(\n"
     ]
    }
   ],
   "source": [
    "print(\"Ocvl@GamFLAFkixkS =>\", convertir_string(\"Ocvl@GamFLAFkixkS\"))"
   ]
  },
  {
   "cell_type": "markdown",
   "metadata": {},
   "source": [
    "BONUS 4. A Pete le gusta hacer pasteles. Tiene algunas recetas e ingredientes. Desgraciadamente, no se le dan bien las matemáticas. ¿Puedes ayudarle a averiguar cuántas tartas puede hacer teniendo en cuenta sus recetas?"
   ]
  },
  {
   "cell_type": "markdown",
   "metadata": {},
   "source": [
    "Escribid una función,  que tome la receta (diccionario) y los ingredientes disponibles (también un diccionario) y devuelva el número máximo de pasteles que Pete puede hornear (entero). Para simplificar, no hay unidades para las cantidades (por ejemplo, 1 libra de harina o 200 g de azúcar son simplemente 1 o 200). Los ingredientes que no están presentes en los diccionarios, pueden ser considerados como 0."
   ]
  },
  {
   "cell_type": "code",
   "execution_count": 19,
   "metadata": {},
   "outputs": [],
   "source": [
    "def hacer_pasteles(dicc_receta, dicc_ingredientes):\n",
    "    numero_bizcochos = []\n",
    "    for key in dicc_receta:\n",
    "        if key not in dicc_ingredientes:\n",
    "            return 0\n",
    "        else:\n",
    "            numero_bizcochos.append(dicc_ingredientes[key] // dicc_receta[key])\n",
    "    return min(numero_bizcochos)"
   ]
  },
  {
   "cell_type": "code",
   "execution_count": 22,
   "metadata": {},
   "outputs": [
    {
     "data": {
      "text/plain": [
       "2"
      ]
     },
     "execution_count": 22,
     "metadata": {},
     "output_type": "execute_result"
    }
   ],
   "source": [
    "receta1 = {'flour': 500, 'sugar': 200, 'eggs': 1}\n",
    "ingredientes1 =  {'flour': 1200, 'sugar': 1200, 'eggs': 5, 'milk': 200}\n",
    "hacer_pasteles(receta1, ingredientes1)"
   ]
  },
  {
   "cell_type": "code",
   "execution_count": 23,
   "metadata": {},
   "outputs": [
    {
     "data": {
      "text/plain": [
       "0"
      ]
     },
     "execution_count": 23,
     "metadata": {},
     "output_type": "execute_result"
    }
   ],
   "source": [
    "receta2 = {'apples': 3, 'flour': 300, 'sugar': 150, 'milk': 100, 'oil': 100}\n",
    "ingredientes2 = {'sugar': 500, 'flour': 2000, 'milk': 2000}\n",
    "hacer_pasteles(receta2, ingredientes2)"
   ]
  },
  {
   "cell_type": "markdown",
   "metadata": {},
   "source": [
    "BONUS 5. Escribid una función que va a ser una calculadora. La lista recibirá dos parámetros, una lista de números y un string con la operación que queremos hacer (puede ser \"*\", \"+\")"
   ]
  },
  {
   "cell_type": "code",
   "execution_count": 11,
   "metadata": {},
   "outputs": [],
   "source": [
    "def calculadora(operacion, *lista):\n",
    "    if operacion == \"*\":\n",
    "        resultado = 1\n",
    "        for i in lista:\n",
    "            resultado = resultado * i\n",
    "        return resultado\n",
    "    elif operacion == \"+\":\n",
    "        resultado = 0\n",
    "        for i in lista:\n",
    "            resultado = resultado + i\n",
    "        return resultado\n",
    "    else:\n",
    "        return \"Lo siento, necesito que me pases una operación valida\""
   ]
  },
  {
   "cell_type": "code",
   "execution_count": 13,
   "metadata": {},
   "outputs": [
    {
     "name": "stdout",
     "output_type": "stream",
     "text": [
      "RESULTADO 12936\n"
     ]
    }
   ],
   "source": [
    "lista1 = [11, 6, 98, 1, 2]\n",
    "\n",
    "print(\"RESULTADO\", calculadora(\"*\", *lista1))"
   ]
  },
  {
   "cell_type": "code",
   "execution_count": 14,
   "metadata": {},
   "outputs": [
    {
     "name": "stdout",
     "output_type": "stream",
     "text": [
      "RESULTADO 214\n"
     ]
    }
   ],
   "source": [
    "lista2 = [23, 34, 56, 11, 90]\n",
    "print(\"RESULTADO\", calculadora(\"+\", *lista2))"
   ]
  },
  {
   "cell_type": "code",
   "execution_count": 15,
   "metadata": {},
   "outputs": [
    {
     "name": "stdout",
     "output_type": "stream",
     "text": [
      "RESULTADO Lo siento, necesito que me pases una operación valida\n"
     ]
    }
   ],
   "source": [
    "lista3 = [23, 4,109 , 94, 77]\n",
    "print(\"RESULTADO\", calculadora(\"-\", *lista3))"
   ]
  }
 ],
 "metadata": {
  "kernelspec": {
   "display_name": "Python 3.9.7 ('base')",
   "language": "python",
   "name": "python3"
  },
  "language_info": {
   "codemirror_mode": {
    "name": "ipython",
    "version": 3
   },
   "file_extension": ".py",
   "mimetype": "text/x-python",
   "name": "python",
   "nbconvert_exporter": "python",
   "pygments_lexer": "ipython3",
   "version": "3.9.7"
  },
  "orig_nbformat": 4,
  "vscode": {
   "interpreter": {
    "hash": "6e8aefa1bb798882dbdb84db5119449300b1df017c6fd8f01a2c188a17dff6eb"
   }
  }
 },
 "nbformat": 4,
 "nbformat_minor": 2
}
