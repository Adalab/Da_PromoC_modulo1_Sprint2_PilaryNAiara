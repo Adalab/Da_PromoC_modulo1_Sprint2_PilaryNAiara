{
 "cells": [
  {
   "cell_type": "markdown",
   "metadata": {},
   "source": [
    "Cread una función que reciba 2 números enteros en forma de string como entrada, y dé como resultado la suma (también en forma de string)\n",
    "Condiciones: \n",
    "Si los dos parámetros que recibe la función son strings vacíos la función nos debe devolver \"0\"\n",
    "Si el primer parámetro es un string vacío, la función nos devuelve el valor del segundo parámetro y viceversa."
   ]
  },
  {
   "cell_type": "code",
   "execution_count": 3,
   "metadata": {},
   "outputs": [],
   "source": [
    "def suma_string(num_1,num_2):\n",
    "    if num_1 == \"\" and num_2 == \"\":\n",
    "        return \"0\"\n",
    "    elif num_1 == \"\" or num_2 == \"\":\n",
    "        if num_1== \"\":\n",
    "            return num_2\n",
    "        else:\n",
    "            return num_1\n",
    "    else:\n",
    "        resultado =int(num_1) + int(num_2)\n",
    "        return str(resultado)\n",
    "\n"
   ]
  },
  {
   "cell_type": "code",
   "execution_count": 4,
   "metadata": {},
   "outputs": [
    {
     "data": {
      "text/plain": [
       "'9'"
      ]
     },
     "execution_count": 4,
     "metadata": {},
     "output_type": "execute_result"
    }
   ],
   "source": [
    "suma_string(\"4\",\"5\")"
   ]
  },
  {
   "cell_type": "code",
   "execution_count": 5,
   "metadata": {},
   "outputs": [
    {
     "data": {
      "text/plain": [
       "'39'"
      ]
     },
     "execution_count": 5,
     "metadata": {},
     "output_type": "execute_result"
    }
   ],
   "source": [
    "suma_string(\"34\",\"5\")"
   ]
  },
  {
   "cell_type": "code",
   "execution_count": 6,
   "metadata": {},
   "outputs": [
    {
     "data": {
      "text/plain": [
       "'0'"
      ]
     },
     "execution_count": 6,
     "metadata": {},
     "output_type": "execute_result"
    }
   ],
   "source": [
    "suma_string(\"\",\"\")"
   ]
  },
  {
   "cell_type": "code",
   "execution_count": 7,
   "metadata": {},
   "outputs": [
    {
     "data": {
      "text/plain": [
       "'2'"
      ]
     },
     "execution_count": 7,
     "metadata": {},
     "output_type": "execute_result"
    }
   ],
   "source": [
    "suma_string(\"2\",\"\")"
   ]
  },
  {
   "cell_type": "code",
   "execution_count": 8,
   "metadata": {},
   "outputs": [
    {
     "data": {
      "text/plain": [
       "'-2'"
      ]
     },
     "execution_count": 8,
     "metadata": {},
     "output_type": "execute_result"
    }
   ],
   "source": [
    "suma_string(\"-5\",\"3\")"
   ]
  },
  {
   "cell_type": "markdown",
   "metadata": {},
   "source": [
    "El objetivo es comparar cada par de enteros de 2 listas, y devolver una nueva lista con el número mayor de la comapración..\n",
    "Probad la función para las siguientes listas: \n",
    "\n",
    "arr1 = [13, 64, 15, 17, 88]\n",
    "arr2 = [23, 14, 53, 17, 80]\n",
    "resultado = [23, 64, 53, 17, 88]"
   ]
  },
  {
   "cell_type": "code",
   "execution_count": 1,
   "metadata": {},
   "outputs": [],
   "source": [
    "arr1 = [13, 64, 15, 17, 88]\n",
    "arr2 = [23, 14, 53, 17, 80]"
   ]
  },
  {
   "cell_type": "code",
   "execution_count": null,
   "metadata": {},
   "outputs": [],
   "source": [
    "resultado[]\n",
    "\n",
    "def comparar_listas (lista_1,lista_2):\n",
    "    lista_tuplas =list(zip (lista_1,lista_2)):\n",
    "    for lista in lista_tuplas:\n",
    "        "
   ]
  },
  {
   "cell_type": "code",
   "execution_count": 3,
   "metadata": {},
   "outputs": [
    {
     "data": {
      "text/plain": [
       "[(13, 23), (64, 14), (15, 53), (17, 17), (88, 80)]"
      ]
     },
     "execution_count": 3,
     "metadata": {},
     "output_type": "execute_result"
    }
   ],
   "source": [
    "arrai_total= list(zip(arr1,arr2))\n",
    "arrai_total"
   ]
  }
 ],
 "metadata": {
  "kernelspec": {
   "display_name": "Python 3.9.7 ('base')",
   "language": "python",
   "name": "python3"
  },
  "language_info": {
   "codemirror_mode": {
    "name": "ipython",
    "version": 3
   },
   "file_extension": ".py",
   "mimetype": "text/x-python",
   "name": "python",
   "nbconvert_exporter": "python",
   "pygments_lexer": "ipython3",
   "version": "3.9.7"
  },
  "orig_nbformat": 4,
  "vscode": {
   "interpreter": {
    "hash": "0d3094a56c6b31c905bcb2da8b4cf1aa49aba23d7ea938b958a6a1dfa31215d2"
   }
  }
 },
 "nbformat": 4,
 "nbformat_minor": 2
}
