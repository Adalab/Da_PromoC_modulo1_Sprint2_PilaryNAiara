{
 "cells": [
  {
   "cell_type": "markdown",
   "metadata": {},
   "source": [
    "Pair programming"
   ]
  },
  {
   "cell_type": "markdown",
   "metadata": {},
   "source": [
    "Seguimos trabajando con funciones, en esta sesión seguiremos la misma dinámica que en la sesión anterior.\n",
    "Manos a la obra! 🤓\n",
    "Como ayer, si os alguna de las funciones no os sale, no os preocupeis! Seguid trabajando en otros ejercicios.\n",
    "Happy coding!"
   ]
  },
  {
   "cell_type": "markdown",
   "metadata": {},
   "source": [
    "1. Vamos a crear una \"Calculadora de puntos\". Tenéis que escribir una calculadora que reciba cadenas de caracteres como entrada. Los puntos representarán el número de la ecuación. Habrá puntos en un lado, un operador, y puntos de nuevo después del oparador. Los puntos y el operador estarán separados por un espacio.\n",
    "Aquí os dejamos los operadores válidos:\n",
    "Suma\n",
    "Resta\n",
    "Multiplicación\n",
    "División entera\n",
    "Vuestro trabajo\n",
    "Tendréis que devolver un string que contenga puntos, tantos como devuelva la ecuación. Si el resultado es 0, devuelve la cadena vacía. Cuando se trata de una resta, el primer número siempre será mayor o igual que el segundo."
   ]
  },
  {
   "cell_type": "code",
   "execution_count": null,
   "metadata": {},
   "outputs": [],
   "source": []
  },
  {
   "cell_type": "code",
   "execution_count": null,
   "metadata": {},
   "outputs": [],
   "source": [
    "[\"soja\", \"ojos\"] \"suma\"\n",
    "\".... + ....\" => \"........\""
   ]
  },
  {
   "cell_type": "code",
   "execution_count": 9,
   "metadata": {},
   "outputs": [],
   "source": [
    "def calculadora_puntos(cadena1, cadena2, operador):\n",
    "    len(cadena1)\n",
    "    len(cadena2)\n",
    "    cadena_salida1 = \"\"\n",
    "    for i in cadena1:\n",
    "        cadena1 = cadena1.replace(i, \".\")\n",
    "    for i in cadena1:\n",
    "        cadena1 = cadena1.replace(i, \".\")"
   ]
  },
  {
   "cell_type": "code",
   "execution_count": 12,
   "metadata": {},
   "outputs": [
    {
     "name": "stdout",
     "output_type": "stream",
     "text": [
      "soja\n",
      "4\n",
      "s\n",
      "o\n",
      "j\n",
      "a\n",
      "....\n"
     ]
    }
   ],
   "source": [
    "cadena1 = \"soja\"\n",
    "cadena2 = \"ojos\"\n",
    "operador = \"suma\"\n",
    "print(cadena1)\n",
    "print(len(cadena1))\n",
    "cadena_salida1 = \"\"\n",
    "for i in cadena1:\n",
    "    print(i)\n",
    "    cadena1 = cadena1.replace(i, \".\")\n",
    "print(cadena1)\n"
   ]
  },
  {
   "cell_type": "code",
   "execution_count": null,
   "metadata": {},
   "outputs": [],
   "source": [
    "# ejercicio 2  hay que buscar un set para que no se repitan cifras"
   ]
  }
 ],
 "metadata": {
  "kernelspec": {
   "display_name": "Python 3.9.7 ('base')",
   "language": "python",
   "name": "python3"
  },
  "language_info": {
   "codemirror_mode": {
    "name": "ipython",
    "version": 3
   },
   "file_extension": ".py",
   "mimetype": "text/x-python",
   "name": "python",
   "nbconvert_exporter": "python",
   "pygments_lexer": "ipython3",
   "version": "3.9.7"
  },
  "orig_nbformat": 4,
  "vscode": {
   "interpreter": {
    "hash": "6e8aefa1bb798882dbdb84db5119449300b1df017c6fd8f01a2c188a17dff6eb"
   }
  }
 },
 "nbformat": 4,
 "nbformat_minor": 2
}
