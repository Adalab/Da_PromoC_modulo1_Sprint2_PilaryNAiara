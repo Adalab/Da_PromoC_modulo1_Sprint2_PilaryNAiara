{
 "cells": [
  {
   "cell_type": "markdown",
   "metadata": {},
   "source": [
    "Pair programming"
   ]
  },
  {
   "cell_type": "markdown",
   "metadata": {},
   "source": [
    "Seguimos trabajando con funciones, en esta sesión seguiremos la misma dinámica que en la sesión anterior.\n",
    "Manos a la obra! 🤓\n",
    "Como ayer, si os alguna de las funciones no os sale, no os preocupeis! Seguid trabajando en otros ejercicios.\n",
    "Happy coding!"
   ]
  },
  {
   "cell_type": "markdown",
   "metadata": {},
   "source": [
    "1. Vamos a crear una \"Calculadora de puntos\". Tenéis que escribir una calculadora que reciba cadenas de caracteres como entrada. Los puntos representarán el número de la ecuación. Habrá puntos en un lado, un operador, y puntos de nuevo después del oparador. Los puntos y el operador estarán separados por un espacio.\n",
    "Aquí os dejamos los operadores válidos:\n",
    "Suma\n",
    "Resta\n",
    "Multiplicación\n",
    "División entera\n",
    "Vuestro trabajo\n",
    "Tendréis que devolver un string que contenga puntos, tantos como devuelva la ecuación. Si el resultado es 0, devuelve la cadena vacía. Cuando se trata de una resta, el primer número siempre será mayor o igual que el segundo."
   ]
  },
  {
   "cell_type": "code",
   "execution_count": 1,
   "metadata": {},
   "outputs": [],
   "source": [
    "def calculadora_puntos(cadena):\n",
    "    caracteres = cadena.split()\n",
    "    resultado = 0\n",
    "\n",
    "    if caracteres[1] == \"+\":\n",
    "        resultado = len(caracteres[0]) + len(caracteres[2])\n",
    "    elif caracteres[1] == \"-\":\n",
    "        if len(caracteres[0]) >= len(caracteres[2]):\n",
    "            resultado = len(caracteres[0]) - len(caracteres[2])\n",
    "        else:\n",
    "            print(\"El primer número siempre será mayor\")\n",
    "    elif caracteres[1] == \"*\":\n",
    "        resultado = len(caracteres[0]) * len(caracteres[2])\n",
    "    elif caracteres[1] == \"//\":\n",
    "        resultado = len(caracteres[0]) // len(caracteres[2])\n",
    "    else:\n",
    "        print(\"Te has equivocado de operador\")\n",
    "    \n",
    "    punto = \".\"\n",
    "    if resultado == 0:\n",
    "        return \"\" \n",
    "    else:\n",
    "        return resultado * punto"
   ]
  },
  {
   "cell_type": "code",
   "execution_count": 2,
   "metadata": {},
   "outputs": [
    {
     "name": "stdout",
     "output_type": "stream",
     "text": [
      " ..... + ............... => ....................\n"
     ]
    }
   ],
   "source": [
    "caso = \"..... + ...............\"\n",
    "print(\"\", caso, \"=>\", calculadora_puntos(caso))"
   ]
  },
  {
   "cell_type": "code",
   "execution_count": 3,
   "metadata": {},
   "outputs": [
    {
     "name": "stdout",
     "output_type": "stream",
     "text": [
      " ..... - ... => ..\n"
     ]
    }
   ],
   "source": [
    "caso = \"..... - ...\"\n",
    "print(\"\", caso, \"=>\", calculadora_puntos(caso))"
   ]
  },
  {
   "cell_type": "code",
   "execution_count": 4,
   "metadata": {},
   "outputs": [
    {
     "name": "stdout",
     "output_type": "stream",
     "text": [
      " ..... * ... => ...............\n"
     ]
    }
   ],
   "source": [
    "caso = \"..... * ...\"\n",
    "print(\"\", caso, \"=>\", calculadora_puntos(caso))"
   ]
  },
  {
   "cell_type": "code",
   "execution_count": 5,
   "metadata": {},
   "outputs": [
    {
     "name": "stdout",
     "output_type": "stream",
     "text": [
      " ..... // .. => ..\n"
     ]
    }
   ],
   "source": [
    "caso = \"..... // ..\"\n",
    "print(\"\", caso, \"=>\", calculadora_puntos(caso))"
   ]
  },
  {
   "cell_type": "code",
   "execution_count": 6,
   "metadata": {},
   "outputs": [
    {
     "name": "stdout",
     "output_type": "stream",
     "text": [
      " . // .. => \n"
     ]
    }
   ],
   "source": [
    "caso = \". // ..\"\n",
    "print(\"\", caso, \"=>\", calculadora_puntos(caso))"
   ]
  },
  {
   "cell_type": "code",
   "execution_count": 7,
   "metadata": {},
   "outputs": [
    {
     "name": "stdout",
     "output_type": "stream",
     "text": [
      " .. - .. => \n"
     ]
    }
   ],
   "source": [
    "caso = \".. - ..\"\n",
    "print(\"\", caso, \"=>\", calculadora_puntos(caso))"
   ]
  },
  {
   "cell_type": "markdown",
   "metadata": {},
   "source": [
    "2. Te despides de tu mejor amigo, \"Nos vemos el próximo año\".\n",
    "\n",
    "Vuestro trabajo: Dado un año, encuentra el próximo cumpleaños o el año más cercano en el que verás a tu mejor amigo.\n",
    "\n",
    "Condiciones\n",
    "\n",
    "- Año siempre positivo.\n",
    "\n",
    "- El siguiente año que le felicites a tu mejor amigo no puede tener ningún dígito repetido."
   ]
  },
  {
   "cell_type": "code",
   "execution_count": 14,
   "metadata": {},
   "outputs": [],
   "source": [
    "def cumpleaños(año):\n",
    "    if año < 0:\n",
    "        print(\"Año no válido\")\n",
    "    else:\n",
    "        while len(set(str(año))) != 4:\n",
    "            año += 1\n",
    "        return año"
   ]
  },
  {
   "cell_type": "code",
   "execution_count": 15,
   "metadata": {},
   "outputs": [
    {
     "name": "stdout",
     "output_type": "stream",
     "text": [
      "7712 =>  7801\n"
     ]
    }
   ],
   "source": [
    "print(\"7712 => \", cumpleaños(7712))"
   ]
  },
  {
   "cell_type": "code",
   "execution_count": 16,
   "metadata": {},
   "outputs": [
    {
     "name": "stdout",
     "output_type": "stream",
     "text": [
      "1001 =>  1023\n"
     ]
    }
   ],
   "source": [
    "print(\"1001 => \", cumpleaños(1001))"
   ]
  },
  {
   "cell_type": "code",
   "execution_count": 17,
   "metadata": {},
   "outputs": [
    {
     "name": "stdout",
     "output_type": "stream",
     "text": [
      "1123 =>  1203\n"
     ]
    }
   ],
   "source": [
    "print(\"1123 => \", cumpleaños(1203))"
   ]
  },
  {
   "cell_type": "code",
   "execution_count": 18,
   "metadata": {},
   "outputs": [
    {
     "name": "stdout",
     "output_type": "stream",
     "text": [
      "2001 =>  2013\n"
     ]
    }
   ],
   "source": [
    "print(\"2001 => \", cumpleaños(2013))"
   ]
  },
  {
   "cell_type": "markdown",
   "metadata": {},
   "source": [
    "3. Tenéis que crear un función que chequee la vida de un evaporador que contiene un gas.\n",
    "Conocemos el contenido del evaporador (contenido en ml), el porcentaje de gas que se pierde cada día y el umbral en porcentaje a partir del cual el evaporador deja de ser útil. Todos los números serán estrictamente positivos.\n",
    "\n",
    "⚠️ Nota: el contenido no es, de hecho, necesario en el cuerpo de la función, podéis utilizarlo o no."
   ]
  },
  {
   "cell_type": "code",
   "execution_count": 1,
   "metadata": {},
   "outputs": [],
   "source": [
    "def dias_evaporador(capacidad, perdida, umbral):\n",
    "    dias = 0\n",
    "\n",
    "    # umbral cuando llega a 100-umbral % deja de funcionar\n",
    "    umbral = capacidad * umbral/100\n",
    "\n",
    "    while capacidad >= umbral:\n",
    "        capacidad -= capacidad * perdida/100\n",
    "        dias += 1\n",
    "    \n",
    "    return dias"
   ]
  },
  {
   "cell_type": "code",
   "execution_count": 2,
   "metadata": {},
   "outputs": [
    {
     "data": {
      "text/plain": [
       "29"
      ]
     },
     "execution_count": 2,
     "metadata": {},
     "output_type": "execute_result"
    }
   ],
   "source": [
    "dias_evaporador(10, 10, 5)"
   ]
  },
  {
   "cell_type": "code",
   "execution_count": 3,
   "metadata": {},
   "outputs": [
    {
     "data": {
      "text/plain": [
       "22"
      ]
     },
     "execution_count": 3,
     "metadata": {},
     "output_type": "execute_result"
    }
   ],
   "source": [
    "dias_evaporador(10, 10, 10)"
   ]
  },
  {
   "cell_type": "markdown",
   "metadata": {},
   "source": [
    "4. Definid una función que tome como argumento un entero y devuelva True o False dependiendo de si el número es primo o no.\n",
    "\n",
    "Según la Wikipedia, un número primo es un número natural mayor que 1 que no tiene divisores positivos más que 1 y él mismo."
   ]
  },
  {
   "cell_type": "code",
   "execution_count": 8,
   "metadata": {},
   "outputs": [],
   "source": [
    "def numero_primo(numero):\n",
    "    if numero <= 1:\n",
    "        return False\n",
    "    else:\n",
    "        for i in range(2, numero):\n",
    "            if numero % i == 0:\n",
    "                return False\n",
    "        return True"
   ]
  },
  {
   "cell_type": "code",
   "execution_count": 9,
   "metadata": {},
   "outputs": [
    {
     "name": "stdout",
     "output_type": "stream",
     "text": [
      "0 => False\n"
     ]
    }
   ],
   "source": [
    "print(\"0 =>\", numero_primo(0))"
   ]
  },
  {
   "cell_type": "code",
   "execution_count": 10,
   "metadata": {},
   "outputs": [
    {
     "name": "stdout",
     "output_type": "stream",
     "text": [
      "2 => True\n"
     ]
    }
   ],
   "source": [
    "print(\"2 =>\", numero_primo(2))"
   ]
  },
  {
   "cell_type": "code",
   "execution_count": 11,
   "metadata": {},
   "outputs": [
    {
     "name": "stdout",
     "output_type": "stream",
     "text": [
      "73 => True\n"
     ]
    }
   ],
   "source": [
    "print(\"73 =>\", numero_primo(73))"
   ]
  },
  {
   "cell_type": "code",
   "execution_count": 12,
   "metadata": {},
   "outputs": [
    {
     "name": "stdout",
     "output_type": "stream",
     "text": [
      "-1 => False\n"
     ]
    }
   ],
   "source": [
    "print(\"-1 =>\", numero_primo(-1))"
   ]
  },
  {
   "cell_type": "code",
   "execution_count": 13,
   "metadata": {},
   "outputs": [
    {
     "name": "stdout",
     "output_type": "stream",
     "text": [
      "5099 => True\n"
     ]
    }
   ],
   "source": [
    "print(\"5099 =>\", numero_primo(5099))"
   ]
  },
  {
   "cell_type": "markdown",
   "metadata": {},
   "source": [
    "5. Probablemente conozcais el sistema de \"me gusta\" de Facebook y otras páginas. La gente puede dar \"me gusta\" a las publicaciones del blog, a las imágenes o a otros elementos. Queremos crear el texto que debe mostrarse junto a dicho elemento.\n",
    "\n",
    "\n",
    "Cread una función que toma una lista que contiene los nombres de las personas a las que les gusta un artículo. Debe devolver el texto que se muestra en los ejemplos:"
   ]
  },
  {
   "cell_type": "code",
   "execution_count": 4,
   "metadata": {},
   "outputs": [],
   "source": [
    "def me_gusta(*lista_nombres):\n",
    "    resto = len(lista_nombres) - 2\n",
    "    if len(lista_nombres) == 0:\n",
    "        print(\"A nadie le gusta esto\")\n",
    "    elif len(lista_nombres) == 1:\n",
    "        print(f\"A {lista_nombres[0]} le gusta esto\")\n",
    "    elif len(lista_nombres) == 2:\n",
    "        print(f\"A {lista_nombres[0]}, y {lista_nombres[1]} les gusta esto\")\n",
    "    elif len(lista_nombres) == 3:\n",
    "        print(f\"A {lista_nombres[0]}, {lista_nombres[1]} y {lista_nombres[2]} más les gusta esto\")\n",
    "    elif len(lista_nombres) > 3:\n",
    "        print(f\"A {lista_nombres[0]}, {lista_nombres[1]} y {resto} más les gusta esto\")"
   ]
  },
  {
   "cell_type": "code",
   "execution_count": 5,
   "metadata": {},
   "outputs": [
    {
     "name": "stdout",
     "output_type": "stream",
     "text": [
      "A nadie le gusta esto\n"
     ]
    }
   ],
   "source": [
    "lista = []\n",
    "me_gusta(*lista)"
   ]
  },
  {
   "cell_type": "code",
   "execution_count": 6,
   "metadata": {},
   "outputs": [
    {
     "name": "stdout",
     "output_type": "stream",
     "text": [
      "A Paola le gusta esto\n"
     ]
    }
   ],
   "source": [
    "lista = [\"Paola\"]\n",
    "me_gusta(*lista)"
   ]
  },
  {
   "cell_type": "code",
   "execution_count": 7,
   "metadata": {},
   "outputs": [
    {
     "name": "stdout",
     "output_type": "stream",
     "text": [
      "A Jacoba, y Alex les gusta esto\n"
     ]
    }
   ],
   "source": [
    "lista = [\"Jacoba\", \"Alex\"]\n",
    "me_gusta(*lista)"
   ]
  },
  {
   "cell_type": "code",
   "execution_count": 8,
   "metadata": {},
   "outputs": [
    {
     "name": "stdout",
     "output_type": "stream",
     "text": [
      "A María, Juana y Lola más les gusta esto\n"
     ]
    }
   ],
   "source": [
    "lista = [\"María\", \"Juana\", \"Lola\"]\n",
    "me_gusta(*lista)"
   ]
  },
  {
   "cell_type": "code",
   "execution_count": 9,
   "metadata": {},
   "outputs": [
    {
     "name": "stdout",
     "output_type": "stream",
     "text": [
      "A Alex, Jacoba y 2 más les gusta esto\n"
     ]
    }
   ],
   "source": [
    "lista = [\"Alex\", \"Jacoba\", \"Lola\", \"Carmen\"]\n",
    "me_gusta(*lista)"
   ]
  },
  {
   "cell_type": "code",
   "execution_count": 10,
   "metadata": {},
   "outputs": [
    {
     "name": "stdout",
     "output_type": "stream",
     "text": [
      "A Alex, Jacoba y 3 más les gusta esto\n"
     ]
    }
   ],
   "source": [
    "lista = [\"Alex\", \"Jacoba\", \"Lola\", \"Carmen\", \"Mariana\"]\n",
    "me_gusta(*lista)"
   ]
  }
 ],
 "metadata": {
  "kernelspec": {
   "display_name": "Python 3.9.7 ('base')",
   "language": "python",
   "name": "python3"
  },
  "language_info": {
   "codemirror_mode": {
    "name": "ipython",
    "version": 3
   },
   "file_extension": ".py",
   "mimetype": "text/x-python",
   "name": "python",
   "nbconvert_exporter": "python",
   "pygments_lexer": "ipython3",
   "version": "3.9.7"
  },
  "orig_nbformat": 4,
  "vscode": {
   "interpreter": {
    "hash": "6e8aefa1bb798882dbdb84db5119449300b1df017c6fd8f01a2c188a17dff6eb"
   }
  }
 },
 "nbformat": 4,
 "nbformat_minor": 2
}
