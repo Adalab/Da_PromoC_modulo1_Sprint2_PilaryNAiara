{
 "cells": [
  {
   "cell_type": "code",
   "execution_count": null,
   "metadata": {},
   "outputs": [],
   "source": []
  },
  {
   "cell_type": "markdown",
   "metadata": {},
   "source": [
    "Creación de carpetas y movimientos entre ellas\n",
    "---------------------------------- PRIMERA FUNCIÓN -----------------------\n",
    "Esta función debe incluir el código que:\n",
    "Nos muestre en que carpeta estamos trabajando.\n",
    "Cree una carpeta que se llame \"aprendiendo-ficheros\". ⚠️ Tened en cuenta que si la carpeta ya existe no la podemos crear, nos devolverá un error. Incluye en la función un programa que evite que nos de un error si la carpeta ya existe.\n",
    "Cree otra carpeta que se llame \"datos\" dentro de la carpeta \"aprendiendo-ficheros\". En esta carpeta \"datos\" guardaremos el fichero \"saludo.txt\" que os habéis descargado.\n",
    "Cambiad el directorio de trabajo a la carpeta \"datos\". Antes de seguir chequead que estáis trabajando en la carpeta \"datos\".\n",
    "Cambiad el nombre de la carpeta creada en el punto 2 a \"primera-toma-contacto\"\n",
    "💡 Pistas para resolver este ejercicio 💡 Esta función debe incluir el código que:\n",
    "La función tendrá que recibir 3 parámetros:\n",
    "El nombre del nombre de la primera carpeta\n",
    "El nombre de la carpeta segunda carpeta\n",
    "El nombre con el que queramos cambiar el nombre de la primera carpeta creada\n",
    "Para saber si las carpetas ya existen tendréis que usar lstdir(recordad que nos devuelve una lista de ficheros y carpetas).\n",
    "Para poder controlar los errores tendremos que usar un if loop, que si el fichero existe, nos devuelva un mensaje de que el fichero ya existe. En caso de que no exista, los deberéis crear y que la función nos muestre un mensaje de que se ha creado.\n",
    "Tendréis que ir cambiando de directorio para poder crear las carpetas y cambiar sus nombres."
   ]
  },
  {
   "cell_type": "code",
   "execution_count": 16,
   "metadata": {},
   "outputs": [],
   "source": [
    "import os"
   ]
  },
  {
   "cell_type": "code",
   "execution_count": 26,
   "metadata": {},
   "outputs": [
    {
     "name": "stdout",
     "output_type": "stream",
     "text": [
      "/mnt/c/Users/pgmur/adalab/pair-programming-modulo1/Da_PromoC_modulo1_Sprint2_PilaryNAiara/python/aprendiendo-ficheros/datos\n",
      "/mnt/c/Users/pgmur/adalab/pair-programming-modulo1/Da_PromoC_modulo1_Sprint2_PilaryNAiara/python/aprendiendo-ficheros/datos/aprendiendo-ficheros\n",
      "La carpeta {carpeta_aprendiendo} ya existe, no se puede volver a crear\n",
      "La carpeta {carpeta_datos} ya existe, no se puede volver a crear\n",
      "/mnt/c/Users/pgmur/adalab/pair-programming-modulo1/Da_PromoC_modulo1_Sprint2_PilaryNAiara/python/aprendiendo-ficheros/datos\n"
     ]
    },
    {
     "ename": "FileNotFoundError",
     "evalue": "[Errno 2] No such file or directory: '/mnt/c/Users/pgmur/adalab/pair-programming-modulo1/Da_PromoC_modulo1_Sprint2_PilaryNAiara/python/aprendiendo-ficheros/datos/datos'",
     "output_type": "error",
     "traceback": [
      "\u001b[0;31m---------------------------------------------------------------------------\u001b[0m",
      "\u001b[0;31mFileNotFoundError\u001b[0m                         Traceback (most recent call last)",
      "Cell \u001b[0;32mIn [26], line 24\u001b[0m\n\u001b[1;32m     20\u001b[0m     \u001b[39mprint\u001b[39m(\u001b[39m\"\u001b[39m\u001b[39mLa carpeta \u001b[39m\u001b[39m{carpeta_datos}\u001b[39;00m\u001b[39m se ha creado satisfactoriamente\u001b[39m\u001b[39m\"\u001b[39m)\n\u001b[1;32m     22\u001b[0m \u001b[39mprint\u001b[39m(os\u001b[39m.\u001b[39mgetcwd())\n\u001b[0;32m---> 24\u001b[0m os\u001b[39m.\u001b[39;49mchdir(os\u001b[39m.\u001b[39;49mgetcwd() \u001b[39m+\u001b[39;49m \u001b[39m'\u001b[39;49m\u001b[39m/\u001b[39;49m\u001b[39m'\u001b[39;49m \u001b[39m+\u001b[39;49m carpeta_datos)\n\u001b[1;32m     26\u001b[0m os\u001b[39m.\u001b[39mrename(carpeta_datos, \u001b[39m\"\u001b[39m\u001b[39mprimera-toma-contacto\u001b[39m\u001b[39m\"\u001b[39m)\n",
      "\u001b[0;31mFileNotFoundError\u001b[0m: [Errno 2] No such file or directory: '/mnt/c/Users/pgmur/adalab/pair-programming-modulo1/Da_PromoC_modulo1_Sprint2_PilaryNAiara/python/aprendiendo-ficheros/datos/datos'"
     ]
    }
   ],
   "source": [
    "mi_ruta = os.getcwd()\n",
    "print(mi_ruta)\n",
    "carpeta_aprendiendo = \"aprendiendo-ficheros\"\n",
    "ubicacion_carpeta_aprendiendo = mi_ruta + '/' + carpeta_aprendiendo\n",
    "print(ubicacion_carpeta_aprendiendo)\n",
    "\n",
    "if os.path.exists(ubicacion_carpeta_aprendiendo) == True:\n",
    "    print(\"La carpeta {carpeta_aprendiendo} ya existe, no se puede volver a crear\")\n",
    "else:\n",
    "    os.mkdir(ubicacion_carpeta_aprendiendo)\n",
    "    print(\"La carpeta {carpeta_aprendiendo} se ha creado satisfactoriamente\")\n",
    "\n",
    "carpeta_datos = \"datos\"\n",
    "ubicacion_carpeta_datos = mi_ruta + '/' + carpeta_aprendiendo + '/' + carpeta_datos\n",
    "\n",
    "if os.path.exists(ubicacion_carpeta_datos) == True:\n",
    "    print(\"La carpeta {carpeta_datos} ya existe, no se puede volver a crear\")\n",
    "else:\n",
    "    os.mkdir(ubicacion_carpeta_datos)\n",
    "    print(\"La carpeta {carpeta_datos} se ha creado satisfactoriamente\")\n",
    "\n",
    "print(os.getcwd())\n",
    "\n",
    "os.chdir(os.getcwd() + '/' + carpeta_datos)\n",
    "\n",
    "os.rename(carpeta_datos, \"primera-toma-contacto\")"
   ]
  },
  {
   "cell_type": "code",
   "execution_count": 19,
   "metadata": {},
   "outputs": [
    {
     "data": {
      "text/plain": [
       "['aprendiendo-ficheros',\n",
       " 'Clases.ipynb',\n",
       " 'Funciones_Argumentos.ipynb',\n",
       " 'Funciones_Intro.ipynb',\n",
       " 'Gestion_ficheros.ipynb']"
      ]
     },
     "execution_count": 19,
     "metadata": {},
     "output_type": "execute_result"
    }
   ],
   "source": [
    "os.listdir()"
   ]
  },
  {
   "cell_type": "code",
   "execution_count": 21,
   "metadata": {},
   "outputs": [],
   "source": [
    "os.chdir(\"/mnt/c/Users/pgmur/adalab/pair-programming-modulo1/Da_PromoC_modulo1_Sprint2_PilaryNAiara/python/aprendiendo-ficheros\")"
   ]
  },
  {
   "cell_type": "code",
   "execution_count": 22,
   "metadata": {},
   "outputs": [
    {
     "data": {
      "text/plain": [
       "['datos']"
      ]
     },
     "execution_count": 22,
     "metadata": {},
     "output_type": "execute_result"
    }
   ],
   "source": [
    "os.listdir()"
   ]
  }
 ],
 "metadata": {
  "kernelspec": {
   "display_name": "Python 3.9.7 ('base')",
   "language": "python",
   "name": "python3"
  },
  "language_info": {
   "codemirror_mode": {
    "name": "ipython",
    "version": 3
   },
   "file_extension": ".py",
   "mimetype": "text/x-python",
   "name": "python",
   "nbconvert_exporter": "python",
   "pygments_lexer": "ipython3",
   "version": "3.9.7"
  },
  "orig_nbformat": 4,
  "vscode": {
   "interpreter": {
    "hash": "6e8aefa1bb798882dbdb84db5119449300b1df017c6fd8f01a2c188a17dff6eb"
   }
  }
 },
 "nbformat": 4,
 "nbformat_minor": 2
}
