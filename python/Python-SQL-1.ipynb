{
 "cells": [
  {
   "cell_type": "markdown",
   "metadata": {},
   "source": [
    "Pair programming\n",
    "\n",
    "Es el momento de dejar de usar la interface de Workbench y empezar a usar SQL desde Python!"
   ]
  },
  {
   "cell_type": "markdown",
   "metadata": {},
   "source": [
    "Primero hacemos la conexión a la base de datos"
   ]
  },
  {
   "cell_type": "code",
   "execution_count": 4,
   "metadata": {},
   "outputs": [],
   "source": [
    "# Importamos librería\n",
    "import mysql.connector\n",
    "\n",
    "# Importamos la librería para los errores\n",
    "from mysql.connector import errorcode\n",
    "\n",
    "try:\n",
    "    cnx = mysql.connector.connect(user = 'root', password = 'AlumnaAdalab', host = '127.0.0.1', \n",
    "                                  database = 'northwind')\n",
    "# en el caso de que haya errores\n",
    "except mysql.connector.Error as err:\n",
    "    if err.errno == errorcode.ER_ACCESS_DENIED_ERROR:\n",
    "        print(\"Something is wrong with your user name or password\")\n",
    "    elif err.errno == errorcode.ER_BAD_DB_ERROR:\n",
    "        print(\"Database does not exist\")\n",
    "    else:\n",
    "        print(err)\n",
    "else:\n",
    "    cnx.close()"
   ]
  },
  {
   "cell_type": "markdown",
   "metadata": {},
   "source": [
    "Objetivos\n",
    "\n",
    "1. Antes de empezar a trabajar con la BBDD de Northwind, conozcamos un poco las BBDD que tenemos en nuestro servidor. ¿Qué BBDD tenemos en nuestro servidor?"
   ]
  },
  {
   "cell_type": "code",
   "execution_count": 6,
   "metadata": {},
   "outputs": [
    {
     "name": "stdout",
     "output_type": "stream",
     "text": [
      "('creacion_tienda',)\n",
      "('information_schema',)\n",
      "('leccion-1-sql',)\n",
      "('leccion-10-sql',)\n",
      "('leccion-11-sql',)\n",
      "('leccion-12-sql',)\n",
      "('leccion-13-sql',)\n",
      "('leccion-14-sql',)\n",
      "('leccion-2-sql',)\n",
      "('leccion-3-sql',)\n",
      "('leccion-4-sql',)\n",
      "('leccion-5-sql',)\n",
      "('leccion-6-sql',)\n",
      "('leccion-7-sql',)\n",
      "('leccion-8-sql',)\n",
      "('leccion-9-sql',)\n",
      "('mysql',)\n",
      "('nba-data',)\n",
      "('northwind',)\n",
      "('northwindpp',)\n",
      "('performance_schema',)\n",
      "('proyecto_equipo6',)\n",
      "('sakila',)\n",
      "('spotify',)\n",
      "('sys',)\n",
      "('tienda',)\n",
      "('tienda_zapatillas',)\n",
      "('tienda_zapatillaspp',)\n",
      "('world',)\n"
     ]
    }
   ],
   "source": [
    "# conexión con el servidor\n",
    "mydb = mysql.connector.connect(user = 'root', password = 'AlumnaAdalab', host = '127.0.0.1', \n",
    "                              database = 'northwind')\n",
    "\n",
    "# comunicación con el servidor\n",
    "mycursor = mydb.cursor()\n",
    "\n",
    "# ejecutamos la query para ver las tablas de la base de datos\n",
    "mycursor.execute(\"SHOW DATABASES\")\n",
    "\n",
    "# printeamos los nombres de las tablas\n",
    "for i in mycursor:\n",
    "    print(i)\n",
    "\n",
    "# cerramos comunicación y conexión con la base de datos\n",
    "mycursor.close()\n",
    "mydb.close()"
   ]
  },
  {
   "cell_type": "markdown",
   "metadata": {},
   "source": [
    "2. Empezemos a explorar la BBDD de Northwind. ¿Qué tablas componen la BBDD? Recuerda que primero nos tendremos que conectar con la BBDD sobre la que queremos trabajar. Guarda el resultado de los nombres de la tablas en una lista."
   ]
  },
  {
   "cell_type": "code",
   "execution_count": 9,
   "metadata": {},
   "outputs": [
    {
     "name": "stdout",
     "output_type": "stream",
     "text": [
      "[('categories',), ('customer_customer_demo',), ('customer_demographics',), ('customers',), ('employee_territories',), ('employees',), ('order_details',), ('orders',), ('products',), ('region',), ('shippers',), ('suppliers',), ('tabla_sql',), ('tabla_txt',), ('tabla_xml',), ('territories',)]\n"
     ]
    }
   ],
   "source": [
    "# conexión con el servidor\n",
    "mydb = mysql.connector.connect(user = 'root', password = 'AlumnaAdalab', host = '127.0.0.1', \n",
    "                              database = 'northwind')\n",
    "\n",
    "# comunicación con el servidor\n",
    "mycursor = mydb.cursor()\n",
    "\n",
    "# ejecutamos la query para ver las tablas de la base de datos\n",
    "mycursor.execute(\"SHOW TABLES\")\n",
    "\n",
    "# guardamos el resultado en una lista, mycursor devuelve tuplas\n",
    "lista_tablas_northwind = list(mycursor)\n",
    "\n",
    "# printeamos los nombres de las tablas\n",
    "print(lista_tablas_northwind)\n",
    "\n",
    "# cerramos comunicación y conexión con la base de datos\n",
    "mycursor.close()\n",
    "mydb.close()"
   ]
  },
  {
   "cell_type": "markdown",
   "metadata": {},
   "source": [
    "3. ¿Qué columnas tiene cada una de las tablas? Para esto tendréis que hacer un for loop para que nos saque el resultado de todas las columnas."
   ]
  },
  {
   "cell_type": "code",
   "execution_count": 13,
   "metadata": {},
   "outputs": [
    {
     "name": "stdout",
     "output_type": "stream",
     "text": [
      "('def', 'northwind', 'categories', 'category_id', 1, None, 'NO', 'int', None, None, 10, 0, None, None, None, b'int', 'PRI', 'auto_increment', 'select,insert,update,references', '', '', None)\n",
      "('def', 'northwind', 'categories', 'category_name', 2, None, 'NO', 'varchar', 15, 45, None, None, None, 'utf8mb3', 'utf8mb3_general_ci', b'varchar(15)', 'MUL', '', 'select,insert,update,references', '', '', None)\n",
      "('def', 'northwind', 'categories', 'description', 3, None, 'YES', 'longtext', 4294967295, 4294967295, None, None, None, 'utf8mb3', 'utf8mb3_general_ci', b'longtext', '', '', 'select,insert,update,references', '', '', None)\n",
      "('def', 'northwind', 'categories', 'picture', 4, None, 'YES', 'longblob', 4294967295, 4294967295, None, None, None, None, None, b'longblob', '', '', 'select,insert,update,references', '', '', None)\n",
      "('def', 'northwindpp', 'categories', 'category_id', 1, None, 'NO', 'int', None, None, 10, 0, None, None, None, b'int', 'PRI', 'auto_increment', 'select,insert,update,references', '', '', None)\n",
      "('def', 'northwindpp', 'categories', 'category_name', 2, None, 'NO', 'varchar', 15, 45, None, None, None, 'utf8mb3', 'utf8mb3_general_ci', b'varchar(15)', 'MUL', '', 'select,insert,update,references', '', '', None)\n",
      "('def', 'northwindpp', 'categories', 'description', 3, None, 'YES', 'longtext', 4294967295, 4294967295, None, None, None, 'utf8mb3', 'utf8mb3_general_ci', b'longtext', '', '', 'select,insert,update,references', '', '', None)\n",
      "('def', 'northwindpp', 'categories', 'picture', 4, None, 'YES', 'longblob', 4294967295, 4294967295, None, None, None, None, None, b'longblob', '', '', 'select,insert,update,references', '', '', None)\n"
     ]
    }
   ],
   "source": [
    "# conexión con el servidor\n",
    "mydb = mysql.connector.connect(user = 'root', password = 'AlumnaAdalab', host = '127.0.0.1', \n",
    "                              database = 'INFORMATION_SCHEMA')\n",
    "\n",
    "mycursor = mydb.cursor()\n",
    "\n",
    "mycursor.execute(\"SELECT * FROM COLUMNS WHERE TABLE_NAME = 'categories'\")\n",
    "\n",
    "for column in mycursor:\n",
    "    print(column)\n",
    "\n",
    "mycursor.close()\n",
    "mydb.close()\n"
   ]
  },
  {
   "cell_type": "code",
   "execution_count": null,
   "metadata": {},
   "outputs": [],
   "source": []
  },
  {
   "cell_type": "markdown",
   "metadata": {},
   "source": [
    "4. Hagamos unas queries facilitas:\n",
    "\n",
    "- Extraed el primer pedido donde se ha gastado más. Devolved el id del pedido y la cantidad gastada.\n",
    "- Devuelve la misma query que en el anterior ejercicio, pero en este caso devuelve todos los resultados.\n",
    "- Extraed el números de pedidos que se hayan hecho por dia. Devuelve los resultados en una dataframe.\n",
    "- Extraer los pedidos hechos por \"Nancy Daviolo\". Tendréis que hacer una subquery.\n",
    "- Para finalizar el ejercicio, desconectad la conexión con el servidor."
   ]
  },
  {
   "cell_type": "code",
   "execution_count": 14,
   "metadata": {},
   "outputs": [
    {
     "name": "stdout",
     "output_type": "stream",
     "text": [
      "[(10865, 16387.5)]\n"
     ]
    }
   ],
   "source": [
    "mydb = mysql.connector.connect(user = 'root', password = 'AlumnaAdalab', host = '127.0.0.1', \n",
    "                              database = 'northwind')\n",
    "\n",
    "mycursor = mydb.cursor()\n",
    "\n",
    "query1 = \"\"\"SELECT order_id, SUM(unit_price * quantity - unit_price * quantity * discount) AS cantidad_gastada\n",
    "         FROM order_details\n",
    "         GROUP BY order_id\n",
    "         ORDER BY SUM(unit_price * quantity - unit_price * quantity * discount) DESC\n",
    "         LIMIT 1\"\"\"\n",
    "\n",
    "mycursor.execute(query1)\n",
    "\n",
    "myresult1 = mycursor.fetchall()\n",
    "\n",
    "print(myresult1)\n",
    "\n",
    "mycursor.close()\n",
    "mydb.close()"
   ]
  }
 ],
 "metadata": {
  "kernelspec": {
   "display_name": "Python 3.9.7 ('base')",
   "language": "python",
   "name": "python3"
  },
  "language_info": {
   "codemirror_mode": {
    "name": "ipython",
    "version": 3
   },
   "file_extension": ".py",
   "mimetype": "text/x-python",
   "name": "python",
   "nbconvert_exporter": "python",
   "pygments_lexer": "ipython3",
   "version": "3.9.7"
  },
  "orig_nbformat": 4,
  "vscode": {
   "interpreter": {
    "hash": "6e8aefa1bb798882dbdb84db5119449300b1df017c6fd8f01a2c188a17dff6eb"
   }
  }
 },
 "nbformat": 4,
 "nbformat_minor": 2
}
