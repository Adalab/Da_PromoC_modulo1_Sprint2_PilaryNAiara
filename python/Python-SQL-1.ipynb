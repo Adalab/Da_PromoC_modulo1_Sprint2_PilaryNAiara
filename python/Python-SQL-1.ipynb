{
 "cells": [
  {
   "cell_type": "markdown",
   "metadata": {},
   "source": [
    "Pair programming\n",
    "\n",
    "Es el momento de dejar de usar la interface de Workbench y empezar a usar SQL desde Python!"
   ]
  },
  {
   "cell_type": "markdown",
   "metadata": {},
   "source": [
    "Primero hacemos la conexión a la base de datos"
   ]
  },
  {
   "cell_type": "code",
   "execution_count": 14,
   "metadata": {},
   "outputs": [],
   "source": [
    "# Importamos librería\n",
    "import mysql.connector\n",
    "\n",
    "# Importamos la librería para los errores\n",
    "from mysql.connector import errorcode\n",
    "\n",
    "try:\n",
    "    cnx = mysql.connector.connect(user = 'root', password = 'AlumnaAdalab', host = '127.0.0.1', \n",
    "                                  database = 'northwind')\n",
    "# en el caso de que haya errores\n",
    "except mysql.connector.Error as err:\n",
    "    if err.errno == errorcode.ER_ACCESS_DENIED_ERROR:\n",
    "        print(\"Something is wrong with your user name or password\")\n",
    "    elif err.errno == errorcode.ER_BAD_DB_ERROR:\n",
    "        print(\"Database does not exist\")\n",
    "    else:\n",
    "        print(err)\n",
    "else:\n",
    "    cnx.close()"
   ]
  },
  {
   "cell_type": "markdown",
   "metadata": {},
   "source": [
    "Objetivos\n",
    "\n",
    "1. Antes de empezar a trabajar con la BBDD de Northwind, conozcamos un poco las BBDD que tenemos en nuestro servidor. ¿Qué BBDD tenemos en nuestro servidor?"
   ]
  },
  {
   "cell_type": "code",
   "execution_count": 15,
   "metadata": {},
   "outputs": [
    {
     "name": "stdout",
     "output_type": "stream",
     "text": [
      "('information_schema',)\n",
      "('leccion-1-sql',)\n",
      "('leccion-10-sql',)\n",
      "('leccion-11-sql',)\n",
      "('leccion-12-sql',)\n",
      "('leccion-13-sql',)\n",
      "('leccion-14-sql',)\n",
      "('leccion-2-sql',)\n",
      "('leccion-3-sql',)\n",
      "('leccion-4-sql',)\n",
      "('leccion-5-sql',)\n",
      "('leccion-6-sql',)\n",
      "('leccion-7-sql',)\n",
      "('leccion-8-sql',)\n",
      "('leccion-9-sql',)\n",
      "('mi_primerita_bbdd_python',)\n",
      "('mysql',)\n",
      "('northwind',)\n",
      "('performance_schema',)\n",
      "('proyecto_equipo6',)\n",
      "('sakila',)\n",
      "('sys',)\n",
      "('tienda',)\n",
      "('tienda_zapatillas',)\n",
      "('world',)\n"
     ]
    }
   ],
   "source": [
    "# conexión con el servidor\n",
    "mydb = mysql.connector.connect(user = 'root', password = 'AlumnaAdalab', host = '127.0.0.1')\n",
    "\n",
    "# comunicación con el servidor\n",
    "mycursor = mydb.cursor()\n",
    "\n",
    "# ejecutamos la query para ver las tablas de la base de datos\n",
    "mycursor.execute(\"SHOW DATABASES\")\n",
    "\n",
    "# printeamos los nombres de las tablas\n",
    "for i in mycursor:\n",
    "    print(i)\n",
    "\n",
    "# cerramos comunicación y conexión con la base de datos\n",
    "mycursor.close()\n",
    "mydb.close()"
   ]
  },
  {
   "cell_type": "markdown",
   "metadata": {},
   "source": [
    "2. Empezemos a explorar la BBDD de Northwind. ¿Qué tablas componen la BBDD? Recuerda que primero nos tendremos que conectar con la BBDD sobre la que queremos trabajar. Guarda el resultado de los nombres de la tablas en una lista."
   ]
  },
  {
   "cell_type": "code",
   "execution_count": 16,
   "metadata": {},
   "outputs": [
    {
     "name": "stdout",
     "output_type": "stream",
     "text": [
      "[('categories',), ('customer_customer_demo',), ('customer_demographics',), ('customers',), ('employee_territories',), ('employees',), ('order_details',), ('orders',), ('products',), ('region',), ('shippers',), ('suppliers',), ('territories',)]\n"
     ]
    }
   ],
   "source": [
    "# conexión con el servidor\n",
    "mydb = mysql.connector.connect(user = 'root', password = 'AlumnaAdalab', host = '127.0.0.1', \n",
    "                              database = 'northwind')\n",
    "\n",
    "# comunicación con el servidor\n",
    "mycursor = mydb.cursor()\n",
    "\n",
    "# ejecutamos la query para ver las tablas de la base de datos\n",
    "mycursor.execute(\"SHOW TABLES\")\n",
    "\n",
    "# guardamos el resultado en una lista, mycursor devuelve tuplas\n",
    "lista_tablas_northwind = list(mycursor)\n",
    "\n",
    "# printeamos los nombres de las tablas\n",
    "print(lista_tablas_northwind)\n",
    "\n",
    "# cerramos comunicación y conexión con la base de datos\n",
    "mycursor.close()\n",
    "mydb.close()"
   ]
  },
  {
   "cell_type": "markdown",
   "metadata": {},
   "source": [
    "3. ¿Qué columnas tiene cada una de las tablas? Para esto tendréis que hacer un for loop para que nos saque el resultado de todas las columnas."
   ]
  },
  {
   "cell_type": "code",
   "execution_count": 19,
   "metadata": {},
   "outputs": [
    {
     "name": "stdout",
     "output_type": "stream",
     "text": [
      "El nombre de la tabla es: categories\n",
      "El nombre de sus columnas es: \n",
      "('def', 'northwind', 'categories', 'category_id', 1, None, 'NO', 'int', None, None, 10, 0, None, None, None, 'int', 'PRI', 'auto_increment', 'select,insert,update,references', '', '', None)\n",
      "('def', 'northwind', 'categories', 'category_name', 2, None, 'NO', 'varchar', 15, 45, None, None, None, 'utf8mb3', 'utf8mb3_general_ci', 'varchar(15)', 'MUL', '', 'select,insert,update,references', '', '', None)\n",
      "('def', 'northwind', 'categories', 'description', 3, None, 'YES', 'longtext', 4294967295, 4294967295, None, None, None, 'utf8mb3', 'utf8mb3_general_ci', 'longtext', '', '', 'select,insert,update,references', '', '', None)\n",
      "('def', 'northwind', 'categories', 'picture', 4, None, 'YES', 'longblob', 4294967295, 4294967295, None, None, None, None, None, 'longblob', '', '', 'select,insert,update,references', '', '', None)\n",
      "('def', 'tienda', 'categories', 'category_id', 1, None, 'NO', 'int', None, None, 10, 0, None, None, None, 'int', 'PRI', 'auto_increment', 'select,insert,update,references', '', '', None)\n",
      "('def', 'tienda', 'categories', 'category_name', 2, None, 'NO', 'varchar', 15, 45, None, None, None, 'utf8mb3', 'utf8mb3_general_ci', 'varchar(15)', 'MUL', '', 'select,insert,update,references', '', '', None)\n",
      "('def', 'tienda', 'categories', 'description', 3, None, 'YES', 'longtext', 4294967295, 4294967295, None, None, None, 'utf8mb3', 'utf8mb3_general_ci', 'longtext', '', '', 'select,insert,update,references', '', '', None)\n",
      "('def', 'tienda', 'categories', 'picture', 4, None, 'YES', 'longblob', 4294967295, 4294967295, None, None, None, None, None, 'longblob', '', '', 'select,insert,update,references', '', '', None)\n",
      "El nombre de la tabla es: customer_customer_demo\n",
      "El nombre de sus columnas es: \n",
      "('def', 'northwind', 'customer_customer_demo', 'customer_id', 1, None, 'NO', 'char', 5, 15, None, None, None, 'utf8mb3', 'utf8mb3_general_ci', 'char(5)', 'PRI', '', 'select,insert,update,references', '', '', None)\n",
      "('def', 'northwind', 'customer_customer_demo', 'customertype_id', 2, None, 'NO', 'char', 10, 30, None, None, None, 'utf8mb3', 'utf8mb3_general_ci', 'char(10)', 'PRI', '', 'select,insert,update,references', '', '', None)\n",
      "El nombre de la tabla es: customer_demographics\n",
      "El nombre de sus columnas es: \n",
      "('def', 'northwind', 'customer_demographics', 'customer_type_id', 1, None, 'NO', 'char', 10, 30, None, None, None, 'utf8mb3', 'utf8mb3_general_ci', 'char(10)', 'PRI', '', 'select,insert,update,references', '', '', None)\n",
      "('def', 'northwind', 'customer_demographics', 'customer_desc', 2, None, 'YES', 'longtext', 4294967295, 4294967295, None, None, None, 'utf8mb3', 'utf8mb3_general_ci', 'longtext', '', '', 'select,insert,update,references', '', '', None)\n",
      "El nombre de la tabla es: customers\n",
      "El nombre de sus columnas es: \n",
      "('def', 'northwind', 'customers', 'customer_id', 1, None, 'NO', 'char', 5, 15, None, None, None, 'utf8mb3', 'utf8mb3_general_ci', 'char(5)', 'PRI', '', 'select,insert,update,references', '', '', None)\n",
      "('def', 'northwind', 'customers', 'company_name', 2, None, 'NO', 'varchar', 40, 120, None, None, None, 'utf8mb3', 'utf8mb3_general_ci', 'varchar(40)', 'MUL', '', 'select,insert,update,references', '', '', None)\n",
      "('def', 'northwind', 'customers', 'contact_name', 3, None, 'YES', 'varchar', 30, 90, None, None, None, 'utf8mb3', 'utf8mb3_general_ci', 'varchar(30)', '', '', 'select,insert,update,references', '', '', None)\n",
      "('def', 'northwind', 'customers', 'contact_title', 4, None, 'YES', 'varchar', 30, 90, None, None, None, 'utf8mb3', 'utf8mb3_general_ci', 'varchar(30)', '', '', 'select,insert,update,references', '', '', None)\n",
      "('def', 'northwind', 'customers', 'address', 5, None, 'YES', 'varchar', 60, 180, None, None, None, 'utf8mb3', 'utf8mb3_general_ci', 'varchar(60)', '', '', 'select,insert,update,references', '', '', None)\n",
      "('def', 'northwind', 'customers', 'city', 6, None, 'YES', 'varchar', 15, 45, None, None, None, 'utf8mb3', 'utf8mb3_general_ci', 'varchar(15)', 'MUL', '', 'select,insert,update,references', '', '', None)\n",
      "('def', 'northwind', 'customers', 'region', 7, None, 'YES', 'varchar', 15, 45, None, None, None, 'utf8mb3', 'utf8mb3_general_ci', 'varchar(15)', 'MUL', '', 'select,insert,update,references', '', '', None)\n",
      "('def', 'northwind', 'customers', 'postal_code', 8, None, 'YES', 'varchar', 10, 30, None, None, None, 'utf8mb3', 'utf8mb3_general_ci', 'varchar(10)', 'MUL', '', 'select,insert,update,references', '', '', None)\n",
      "('def', 'northwind', 'customers', 'country', 9, None, 'YES', 'varchar', 15, 45, None, None, None, 'utf8mb3', 'utf8mb3_general_ci', 'varchar(15)', '', '', 'select,insert,update,references', '', '', None)\n",
      "('def', 'northwind', 'customers', 'phone', 10, None, 'YES', 'varchar', 24, 72, None, None, None, 'utf8mb3', 'utf8mb3_general_ci', 'varchar(24)', '', '', 'select,insert,update,references', '', '', None)\n",
      "('def', 'northwind', 'customers', 'fax', 11, None, 'YES', 'varchar', 24, 72, None, None, None, 'utf8mb3', 'utf8mb3_general_ci', 'varchar(24)', '', '', 'select,insert,update,references', '', '', None)\n",
      "('def', 'tienda', 'customers', 'customer_number', 1, None, 'NO', 'int', None, None, 10, 0, None, None, None, 'int', 'PRI', '', 'select,insert,update,references', '', '', None)\n",
      "('def', 'tienda', 'customers', 'customer_name', 2, None, 'NO', 'varchar', 50, 200, None, None, None, 'utf8mb4', 'utf8mb4_0900_ai_ci', 'varchar(50)', '', '', 'select,insert,update,references', '', '', None)\n",
      "('def', 'tienda', 'customers', 'contact_last_name', 3, None, 'NO', 'varchar', 50, 200, None, None, None, 'utf8mb4', 'utf8mb4_0900_ai_ci', 'varchar(50)', '', '', 'select,insert,update,references', '', '', None)\n",
      "('def', 'tienda', 'customers', 'contact_first_name', 4, None, 'NO', 'varchar', 50, 200, None, None, None, 'utf8mb4', 'utf8mb4_0900_ai_ci', 'varchar(50)', '', '', 'select,insert,update,references', '', '', None)\n",
      "('def', 'tienda', 'customers', 'phone', 5, None, 'NO', 'varchar', 50, 200, None, None, None, 'utf8mb4', 'utf8mb4_0900_ai_ci', 'varchar(50)', '', '', 'select,insert,update,references', '', '', None)\n",
      "('def', 'tienda', 'customers', 'address_line1', 6, None, 'NO', 'varchar', 50, 200, None, None, None, 'utf8mb4', 'utf8mb4_0900_ai_ci', 'varchar(50)', '', '', 'select,insert,update,references', '', '', None)\n",
      "('def', 'tienda', 'customers', 'address_line2', 7, None, 'YES', 'varchar', 50, 200, None, None, None, 'utf8mb4', 'utf8mb4_0900_ai_ci', 'varchar(50)', '', '', 'select,insert,update,references', '', '', None)\n",
      "('def', 'tienda', 'customers', 'city', 8, None, 'NO', 'varchar', 50, 200, None, None, None, 'utf8mb4', 'utf8mb4_0900_ai_ci', 'varchar(50)', '', '', 'select,insert,update,references', '', '', None)\n",
      "('def', 'tienda', 'customers', 'state', 9, None, 'YES', 'varchar', 50, 200, None, None, None, 'utf8mb4', 'utf8mb4_0900_ai_ci', 'varchar(50)', '', '', 'select,insert,update,references', '', '', None)\n",
      "('def', 'tienda', 'customers', 'postal_code', 10, None, 'YES', 'varchar', 15, 60, None, None, None, 'utf8mb4', 'utf8mb4_0900_ai_ci', 'varchar(15)', '', '', 'select,insert,update,references', '', '', None)\n",
      "('def', 'tienda', 'customers', 'country', 11, None, 'NO', 'varchar', 50, 200, None, None, None, 'utf8mb4', 'utf8mb4_0900_ai_ci', 'varchar(50)', '', '', 'select,insert,update,references', '', '', None)\n",
      "('def', 'tienda', 'customers', 'sales_rep_employee_number', 12, None, 'YES', 'int', None, None, 10, 0, None, None, None, 'int', 'MUL', '', 'select,insert,update,references', '', '', None)\n",
      "('def', 'tienda', 'customers', 'credit_limit', 13, None, 'YES', 'decimal', None, None, 10, 2, None, None, None, 'decimal(10,2)', '', '', 'select,insert,update,references', '', '', None)\n",
      "El nombre de la tabla es: employee_territories\n",
      "El nombre de sus columnas es: \n",
      "('def', 'northwind', 'employee_territories', 'employee_id', 1, None, 'NO', 'int', None, None, 10, 0, None, None, None, 'int', 'PRI', '', 'select,insert,update,references', '', '', None)\n",
      "('def', 'northwind', 'employee_territories', 'territory_id', 2, None, 'NO', 'varchar', 20, 60, None, None, None, 'utf8mb3', 'utf8mb3_general_ci', 'varchar(20)', 'PRI', '', 'select,insert,update,references', '', '', None)\n",
      "El nombre de la tabla es: employees\n",
      "El nombre de sus columnas es: \n",
      "('def', 'northwind', 'employees', 'employee_id', 1, None, 'NO', 'int', None, None, 10, 0, None, None, None, 'int', 'PRI', 'auto_increment', 'select,insert,update,references', '', '', None)\n",
      "('def', 'northwind', 'employees', 'last_name', 2, None, 'NO', 'varchar', 20, 60, None, None, None, 'utf8mb3', 'utf8mb3_general_ci', 'varchar(20)', 'MUL', '', 'select,insert,update,references', '', '', None)\n",
      "('def', 'northwind', 'employees', 'first_name', 3, None, 'NO', 'varchar', 10, 30, None, None, None, 'utf8mb3', 'utf8mb3_general_ci', 'varchar(10)', '', '', 'select,insert,update,references', '', '', None)\n",
      "('def', 'northwind', 'employees', 'title', 4, None, 'YES', 'varchar', 30, 90, None, None, None, 'utf8mb3', 'utf8mb3_general_ci', 'varchar(30)', '', '', 'select,insert,update,references', '', '', None)\n",
      "('def', 'northwind', 'employees', 'title_of_courtesy', 5, None, 'YES', 'varchar', 25, 75, None, None, None, 'utf8mb3', 'utf8mb3_general_ci', 'varchar(25)', '', '', 'select,insert,update,references', '', '', None)\n",
      "('def', 'northwind', 'employees', 'birth_date', 6, None, 'YES', 'datetime', None, None, None, None, 0, None, None, 'datetime', '', '', 'select,insert,update,references', '', '', None)\n",
      "('def', 'northwind', 'employees', 'hire_date', 7, None, 'YES', 'datetime', None, None, None, None, 0, None, None, 'datetime', '', '', 'select,insert,update,references', '', '', None)\n",
      "('def', 'northwind', 'employees', 'address', 8, None, 'YES', 'varchar', 60, 180, None, None, None, 'utf8mb3', 'utf8mb3_general_ci', 'varchar(60)', '', '', 'select,insert,update,references', '', '', None)\n",
      "('def', 'northwind', 'employees', 'city', 9, None, 'YES', 'varchar', 15, 45, None, None, None, 'utf8mb3', 'utf8mb3_general_ci', 'varchar(15)', '', '', 'select,insert,update,references', '', '', None)\n",
      "('def', 'northwind', 'employees', 'region', 10, None, 'YES', 'varchar', 15, 45, None, None, None, 'utf8mb3', 'utf8mb3_general_ci', 'varchar(15)', '', '', 'select,insert,update,references', '', '', None)\n",
      "('def', 'northwind', 'employees', 'postal_code', 11, None, 'YES', 'varchar', 10, 30, None, None, None, 'utf8mb3', 'utf8mb3_general_ci', 'varchar(10)', 'MUL', '', 'select,insert,update,references', '', '', None)\n",
      "('def', 'northwind', 'employees', 'country', 12, None, 'YES', 'varchar', 15, 45, None, None, None, 'utf8mb3', 'utf8mb3_general_ci', 'varchar(15)', '', '', 'select,insert,update,references', '', '', None)\n",
      "('def', 'northwind', 'employees', 'home_phone', 13, None, 'YES', 'varchar', 24, 72, None, None, None, 'utf8mb3', 'utf8mb3_general_ci', 'varchar(24)', '', '', 'select,insert,update,references', '', '', None)\n",
      "('def', 'northwind', 'employees', 'extension', 14, None, 'YES', 'varchar', 4, 12, None, None, None, 'utf8mb3', 'utf8mb3_general_ci', 'varchar(4)', '', '', 'select,insert,update,references', '', '', None)\n",
      "('def', 'northwind', 'employees', 'photo', 15, None, 'YES', 'longblob', 4294967295, 4294967295, None, None, None, None, None, 'longblob', '', '', 'select,insert,update,references', '', '', None)\n",
      "('def', 'northwind', 'employees', 'notes', 16, None, 'YES', 'longtext', 4294967295, 4294967295, None, None, None, 'utf8mb3', 'utf8mb3_general_ci', 'longtext', '', '', 'select,insert,update,references', '', '', None)\n",
      "('def', 'northwind', 'employees', 'reports_to', 17, None, 'YES', 'int', None, None, 10, 0, None, None, None, 'int', 'MUL', '', 'select,insert,update,references', '', '', None)\n",
      "('def', 'northwind', 'employees', 'photo_path', 18, None, 'YES', 'varchar', 255, 765, None, None, None, 'utf8mb3', 'utf8mb3_general_ci', 'varchar(255)', '', '', 'select,insert,update,references', '', '', None)\n",
      "('def', 'tienda', 'employees', 'employee_number', 1, None, 'NO', 'int', None, None, 10, 0, None, None, None, 'int', 'PRI', '', 'select,insert,update,references', '', '', None)\n",
      "('def', 'tienda', 'employees', 'last_name', 2, None, 'NO', 'varchar', 50, 50, None, None, None, 'latin1', 'latin1_swedish_ci', 'varchar(50)', '', '', 'select,insert,update,references', '', '', None)\n",
      "('def', 'tienda', 'employees', 'first_name', 3, None, 'NO', 'varchar', 50, 50, None, None, None, 'latin1', 'latin1_swedish_ci', 'varchar(50)', '', '', 'select,insert,update,references', '', '', None)\n",
      "('def', 'tienda', 'employees', 'extension', 4, None, 'NO', 'varchar', 10, 10, None, None, None, 'latin1', 'latin1_swedish_ci', 'varchar(10)', '', '', 'select,insert,update,references', '', '', None)\n",
      "('def', 'tienda', 'employees', 'email', 5, None, 'NO', 'varchar', 100, 100, None, None, None, 'latin1', 'latin1_swedish_ci', 'varchar(100)', '', '', 'select,insert,update,references', '', '', None)\n",
      "('def', 'tienda', 'employees', 'office_code', 6, None, 'NO', 'varchar', 10, 10, None, None, None, 'latin1', 'latin1_swedish_ci', 'varchar(10)', 'MUL', '', 'select,insert,update,references', '', '', None)\n",
      "('def', 'tienda', 'employees', 'reports_to', 7, None, 'YES', 'int', None, None, 10, 0, None, None, None, 'int', 'MUL', '', 'select,insert,update,references', '', '', None)\n",
      "('def', 'tienda', 'employees', 'job_title', 8, None, 'NO', 'varchar', 50, 50, None, None, None, 'latin1', 'latin1_swedish_ci', 'varchar(50)', '', '', 'select,insert,update,references', '', '', None)\n",
      "El nombre de la tabla es: order_details\n",
      "El nombre de sus columnas es: \n",
      "('def', 'northwind', 'order_details', 'order_id', 1, None, 'NO', 'int', None, None, 10, 0, None, None, None, 'int', 'PRI', '', 'select,insert,update,references', '', '', None)\n",
      "('def', 'northwind', 'order_details', 'product_id', 2, None, 'NO', 'int', None, None, 10, 0, None, None, None, 'int', 'PRI', '', 'select,insert,update,references', '', '', None)\n",
      "('def', 'northwind', 'order_details', 'unit_price', 3, '0', 'NO', 'double', None, None, 22, None, None, None, None, 'double', '', '', 'select,insert,update,references', '', '', None)\n",
      "('def', 'northwind', 'order_details', 'quantity', 4, '0', 'NO', 'smallint', None, None, 5, 0, None, None, None, 'smallint', '', '', 'select,insert,update,references', '', '', None)\n",
      "('def', 'northwind', 'order_details', 'discount', 5, '0', 'NO', 'double', None, None, 22, None, None, None, None, 'double', '', '', 'select,insert,update,references', '', '', None)\n",
      "('def', 'tienda', 'order_details', 'order_number', 1, None, 'NO', 'int', None, None, 10, 0, None, None, None, 'int', 'PRI', '', 'select,insert,update,references', '', '', None)\n",
      "('def', 'tienda', 'order_details', 'product_code', 2, None, 'NO', 'varchar', 15, 15, None, None, None, 'latin1', 'latin1_swedish_ci', 'varchar(15)', 'PRI', '', 'select,insert,update,references', '', '', None)\n",
      "('def', 'tienda', 'order_details', 'quantity_ordered', 3, None, 'NO', 'int', None, None, 10, 0, None, None, None, 'int', '', '', 'select,insert,update,references', '', '', None)\n",
      "('def', 'tienda', 'order_details', 'price_each', 4, None, 'NO', 'decimal', None, None, 10, 2, None, None, None, 'decimal(10,2)', '', '', 'select,insert,update,references', '', '', None)\n",
      "('def', 'tienda', 'order_details', 'order_line_number', 5, None, 'NO', 'smallint', None, None, 5, 0, None, None, None, 'smallint', '', '', 'select,insert,update,references', '', '', None)\n",
      "El nombre de la tabla es: orders\n",
      "El nombre de sus columnas es: \n",
      "('def', 'northwind', 'orders', 'order_id', 1, None, 'NO', 'int', None, None, 10, 0, None, None, None, 'int', 'PRI', 'auto_increment', 'select,insert,update,references', '', '', None)\n",
      "('def', 'northwind', 'orders', 'customer_id', 2, None, 'YES', 'char', 5, 15, None, None, None, 'utf8mb3', 'utf8mb3_general_ci', 'char(5)', 'MUL', '', 'select,insert,update,references', '', '', None)\n",
      "('def', 'northwind', 'orders', 'employee_id', 3, None, 'YES', 'int', None, None, 10, 0, None, None, None, 'int', 'MUL', '', 'select,insert,update,references', '', '', None)\n",
      "('def', 'northwind', 'orders', 'order_date', 4, None, 'YES', 'datetime', None, None, None, None, 0, None, None, 'datetime', 'MUL', '', 'select,insert,update,references', '', '', None)\n",
      "('def', 'northwind', 'orders', 'required_date', 5, None, 'YES', 'datetime', None, None, None, None, 0, None, None, 'datetime', '', '', 'select,insert,update,references', '', '', None)\n",
      "('def', 'northwind', 'orders', 'shipped_date', 6, None, 'YES', 'datetime', None, None, None, None, 0, None, None, 'datetime', 'MUL', '', 'select,insert,update,references', '', '', None)\n",
      "('def', 'northwind', 'orders', 'ship_via', 7, None, 'YES', 'int', None, None, 10, 0, None, None, None, 'int', 'MUL', '', 'select,insert,update,references', '', '', None)\n",
      "('def', 'northwind', 'orders', 'freight', 8, '0', 'YES', 'double', None, None, 22, None, None, None, None, 'double', '', '', 'select,insert,update,references', '', '', None)\n",
      "('def', 'northwind', 'orders', 'ship_name', 9, None, 'YES', 'varchar', 40, 120, None, None, None, 'utf8mb3', 'utf8mb3_general_ci', 'varchar(40)', '', '', 'select,insert,update,references', '', '', None)\n",
      "('def', 'northwind', 'orders', 'ship_address', 10, None, 'YES', 'varchar', 60, 180, None, None, None, 'utf8mb3', 'utf8mb3_general_ci', 'varchar(60)', '', '', 'select,insert,update,references', '', '', None)\n",
      "('def', 'northwind', 'orders', 'ship_city', 11, None, 'YES', 'varchar', 15, 45, None, None, None, 'utf8mb3', 'utf8mb3_general_ci', 'varchar(15)', '', '', 'select,insert,update,references', '', '', None)\n",
      "('def', 'northwind', 'orders', 'ship_region', 12, None, 'YES', 'varchar', 15, 45, None, None, None, 'utf8mb3', 'utf8mb3_general_ci', 'varchar(15)', '', '', 'select,insert,update,references', '', '', None)\n",
      "('def', 'northwind', 'orders', 'ship_postal_code', 13, None, 'YES', 'varchar', 10, 30, None, None, None, 'utf8mb3', 'utf8mb3_general_ci', 'varchar(10)', 'MUL', '', 'select,insert,update,references', '', '', None)\n",
      "('def', 'northwind', 'orders', 'ship_country', 14, None, 'YES', 'varchar', 15, 45, None, None, None, 'utf8mb3', 'utf8mb3_general_ci', 'varchar(15)', '', '', 'select,insert,update,references', '', '', None)\n",
      "('def', 'tienda', 'orders', 'order_number', 1, None, 'NO', 'int', None, None, 10, 0, None, None, None, 'int', 'PRI', '', 'select,insert,update,references', '', '', None)\n",
      "('def', 'tienda', 'orders', 'order_date', 2, None, 'NO', 'date', None, None, None, None, None, None, None, 'date', '', '', 'select,insert,update,references', '', '', None)\n",
      "('def', 'tienda', 'orders', 'required_date', 3, None, 'NO', 'date', None, None, None, None, None, None, None, 'date', '', '', 'select,insert,update,references', '', '', None)\n",
      "('def', 'tienda', 'orders', 'shipped_date', 4, None, 'YES', 'date', None, None, None, None, None, None, None, 'date', '', '', 'select,insert,update,references', '', '', None)\n",
      "('def', 'tienda', 'orders', 'status', 5, None, 'NO', 'varchar', 15, 15, None, None, None, 'latin1', 'latin1_swedish_ci', 'varchar(15)', '', '', 'select,insert,update,references', '', '', None)\n",
      "('def', 'tienda', 'orders', 'comments', 6, None, 'YES', 'text', 65535, 65535, None, None, None, 'latin1', 'latin1_swedish_ci', 'text', '', '', 'select,insert,update,references', '', '', None)\n",
      "('def', 'tienda', 'orders', 'customer_number', 7, None, 'NO', 'int', None, None, 10, 0, None, None, None, 'int', 'MUL', '', 'select,insert,update,references', '', '', None)\n",
      "El nombre de la tabla es: products\n",
      "El nombre de sus columnas es: \n",
      "('def', 'northwind', 'products', 'product_id', 1, None, 'NO', 'int', None, None, 10, 0, None, None, None, 'int', 'PRI', 'auto_increment', 'select,insert,update,references', '', '', None)\n",
      "('def', 'northwind', 'products', 'product_name', 2, None, 'NO', 'varchar', 40, 120, None, None, None, 'utf8mb3', 'utf8mb3_general_ci', 'varchar(40)', 'MUL', '', 'select,insert,update,references', '', '', None)\n",
      "('def', 'northwind', 'products', 'supplier_id', 3, None, 'YES', 'int', None, None, 10, 0, None, None, None, 'int', 'MUL', '', 'select,insert,update,references', '', '', None)\n",
      "('def', 'northwind', 'products', 'category_id', 4, None, 'YES', 'int', None, None, 10, 0, None, None, None, 'int', 'MUL', '', 'select,insert,update,references', '', '', None)\n",
      "('def', 'northwind', 'products', 'quantity_per_unit', 5, None, 'YES', 'varchar', 20, 60, None, None, None, 'utf8mb3', 'utf8mb3_general_ci', 'varchar(20)', '', '', 'select,insert,update,references', '', '', None)\n",
      "('def', 'northwind', 'products', 'unit_price', 6, '0', 'YES', 'double', None, None, 22, None, None, None, None, 'double', '', '', 'select,insert,update,references', '', '', None)\n",
      "('def', 'northwind', 'products', 'units_in_stock', 7, '0', 'YES', 'smallint', None, None, 5, 0, None, None, None, 'smallint', '', '', 'select,insert,update,references', '', '', None)\n",
      "('def', 'northwind', 'products', 'units_on_order', 8, '0', 'YES', 'smallint', None, None, 5, 0, None, None, None, 'smallint', '', '', 'select,insert,update,references', '', '', None)\n",
      "('def', 'northwind', 'products', 'reorder_level', 9, '0', 'YES', 'smallint', None, None, 5, 0, None, None, None, 'smallint', '', '', 'select,insert,update,references', '', '', None)\n",
      "('def', 'northwind', 'products', 'discontinued', 10, '0', 'NO', 'tinyint', None, None, 3, 0, None, None, None, 'tinyint(1)', '', '', 'select,insert,update,references', '', '', None)\n",
      "('def', 'tienda', 'products', 'product_code', 1, None, 'NO', 'varchar', 15, 15, None, None, None, 'latin1', 'latin1_swedish_ci', 'varchar(15)', 'PRI', '', 'select,insert,update,references', '', '', None)\n",
      "('def', 'tienda', 'products', 'product_name', 2, None, 'NO', 'varchar', 70, 70, None, None, None, 'latin1', 'latin1_swedish_ci', 'varchar(70)', '', '', 'select,insert,update,references', '', '', None)\n",
      "('def', 'tienda', 'products', 'product_line', 3, None, 'NO', 'varchar', 50, 50, None, None, None, 'latin1', 'latin1_swedish_ci', 'varchar(50)', 'MUL', '', 'select,insert,update,references', '', '', None)\n",
      "('def', 'tienda', 'products', 'product_scale', 4, None, 'NO', 'varchar', 10, 10, None, None, None, 'latin1', 'latin1_swedish_ci', 'varchar(10)', '', '', 'select,insert,update,references', '', '', None)\n",
      "('def', 'tienda', 'products', 'product_vendor', 5, None, 'NO', 'varchar', 50, 50, None, None, None, 'latin1', 'latin1_swedish_ci', 'varchar(50)', '', '', 'select,insert,update,references', '', '', None)\n",
      "('def', 'tienda', 'products', 'product_description', 6, None, 'NO', 'text', 65535, 65535, None, None, None, 'latin1', 'latin1_swedish_ci', 'text', '', '', 'select,insert,update,references', '', '', None)\n",
      "('def', 'tienda', 'products', 'quantity_in_stock', 7, None, 'NO', 'smallint', None, None, 5, 0, None, None, None, 'smallint', '', '', 'select,insert,update,references', '', '', None)\n",
      "('def', 'tienda', 'products', 'buy_price', 8, None, 'NO', 'decimal', None, None, 10, 2, None, None, None, 'decimal(10,2)', '', '', 'select,insert,update,references', '', '', None)\n",
      "('def', 'tienda', 'products', 'msrp', 9, None, 'NO', 'decimal', None, None, 10, 2, None, None, None, 'decimal(10,2)', '', '', 'select,insert,update,references', '', '', None)\n",
      "El nombre de la tabla es: region\n",
      "El nombre de sus columnas es: \n",
      "('def', 'northwind', 'region', 'region_id', 1, None, 'NO', 'int', None, None, 10, 0, None, None, None, 'int', 'PRI', '', 'select,insert,update,references', '', '', None)\n",
      "('def', 'northwind', 'region', 'region_description', 2, None, 'NO', 'char', 50, 150, None, None, None, 'utf8mb3', 'utf8mb3_general_ci', 'char(50)', '', '', 'select,insert,update,references', '', '', None)\n",
      "El nombre de la tabla es: shippers\n",
      "El nombre de sus columnas es: \n",
      "('def', 'northwind', 'shippers', 'shipper_id', 1, None, 'NO', 'int', None, None, 10, 0, None, None, None, 'int', 'PRI', 'auto_increment', 'select,insert,update,references', '', '', None)\n",
      "('def', 'northwind', 'shippers', 'company_name', 2, None, 'NO', 'varchar', 40, 120, None, None, None, 'utf8mb3', 'utf8mb3_general_ci', 'varchar(40)', '', '', 'select,insert,update,references', '', '', None)\n",
      "('def', 'northwind', 'shippers', 'phone', 3, None, 'YES', 'varchar', 24, 72, None, None, None, 'utf8mb3', 'utf8mb3_general_ci', 'varchar(24)', '', '', 'select,insert,update,references', '', '', None)\n",
      "El nombre de la tabla es: suppliers\n",
      "El nombre de sus columnas es: \n",
      "('def', 'northwind', 'suppliers', 'supplier_id', 1, None, 'NO', 'int', None, None, 10, 0, None, None, None, 'int', 'PRI', 'auto_increment', 'select,insert,update,references', '', '', None)\n",
      "('def', 'northwind', 'suppliers', 'company_name', 2, None, 'NO', 'varchar', 40, 120, None, None, None, 'utf8mb3', 'utf8mb3_general_ci', 'varchar(40)', 'MUL', '', 'select,insert,update,references', '', '', None)\n",
      "('def', 'northwind', 'suppliers', 'contact_name', 3, None, 'YES', 'varchar', 30, 90, None, None, None, 'utf8mb3', 'utf8mb3_general_ci', 'varchar(30)', '', '', 'select,insert,update,references', '', '', None)\n",
      "('def', 'northwind', 'suppliers', 'contact_title', 4, None, 'YES', 'varchar', 30, 90, None, None, None, 'utf8mb3', 'utf8mb3_general_ci', 'varchar(30)', '', '', 'select,insert,update,references', '', '', None)\n",
      "('def', 'northwind', 'suppliers', 'adress', 5, None, 'YES', 'varchar', 60, 180, None, None, None, 'utf8mb3', 'utf8mb3_general_ci', 'varchar(60)', '', '', 'select,insert,update,references', '', '', None)\n",
      "('def', 'northwind', 'suppliers', 'city', 6, None, 'YES', 'varchar', 15, 45, None, None, None, 'utf8mb3', 'utf8mb3_general_ci', 'varchar(15)', '', '', 'select,insert,update,references', '', '', None)\n",
      "('def', 'northwind', 'suppliers', 'region', 7, None, 'YES', 'varchar', 15, 45, None, None, None, 'utf8mb3', 'utf8mb3_general_ci', 'varchar(15)', '', '', 'select,insert,update,references', '', '', None)\n",
      "('def', 'northwind', 'suppliers', 'postal_code', 8, None, 'YES', 'varchar', 10, 30, None, None, None, 'utf8mb3', 'utf8mb3_general_ci', 'varchar(10)', 'MUL', '', 'select,insert,update,references', '', '', None)\n",
      "('def', 'northwind', 'suppliers', 'country', 9, None, 'YES', 'varchar', 15, 45, None, None, None, 'utf8mb3', 'utf8mb3_general_ci', 'varchar(15)', '', '', 'select,insert,update,references', '', '', None)\n",
      "('def', 'northwind', 'suppliers', 'phone', 10, None, 'YES', 'varchar', 24, 72, None, None, None, 'utf8mb3', 'utf8mb3_general_ci', 'varchar(24)', '', '', 'select,insert,update,references', '', '', None)\n",
      "('def', 'northwind', 'suppliers', 'fax', 11, None, 'YES', 'varchar', 24, 72, None, None, None, 'utf8mb3', 'utf8mb3_general_ci', 'varchar(24)', '', '', 'select,insert,update,references', '', '', None)\n",
      "('def', 'northwind', 'suppliers', 'home_page', 12, None, 'YES', 'longtext', 4294967295, 4294967295, None, None, None, 'utf8mb3', 'utf8mb3_general_ci', 'longtext', '', '', 'select,insert,update,references', '', '', None)\n",
      "El nombre de la tabla es: territories\n",
      "El nombre de sus columnas es: \n",
      "('def', 'northwind', 'territories', 'territory_id', 1, None, 'NO', 'varchar', 20, 60, None, None, None, 'utf8mb3', 'utf8mb3_general_ci', 'varchar(20)', 'PRI', '', 'select,insert,update,references', '', '', None)\n",
      "('def', 'northwind', 'territories', 'territory_description', 2, None, 'NO', 'char', 50, 150, None, None, None, 'utf8mb3', 'utf8mb3_general_ci', 'char(50)', '', '', 'select,insert,update,references', '', '', None)\n",
      "('def', 'northwind', 'territories', 'region_id', 3, None, 'NO', 'int', None, None, 10, 0, None, None, None, 'int', 'MUL', '', 'select,insert,update,references', '', '', None)\n"
     ]
    }
   ],
   "source": [
    "# conexión con el servidor\n",
    "mydb = mysql.connector.connect(user = 'root', password = 'AlumnaAdalab', host = '127.0.0.1', \n",
    "                              database = 'INFORMATION_SCHEMA')\n",
    "\n",
    "mycursor = mydb.cursor()\n",
    "\n",
    "for lista in lista_tablas_northwind:\n",
    "    print(f\"El nombre de la tabla es: {lista[0]}\")\n",
    "    print(\"El nombre de sus columnas es: \")\n",
    "    mycursor.execute(f\"SELECT * FROM COLUMNS WHERE TABLE_NAME = '{lista[0]}'\")\n",
    "    for column in mycursor:\n",
    "        print(column)\n",
    "\n",
    "mycursor.close()\n",
    "mydb.close()\n"
   ]
  },
  {
   "cell_type": "markdown",
   "metadata": {},
   "source": [
    "4. Hagamos unas queries facilitas:\n",
    "\n",
    "- Extraed el primer pedido donde se ha gastado más. Devolved el id del pedido y la cantidad gastada.\n",
    "- Devuelve la misma query que en el anterior ejercicio, pero en este caso devuelve todos los resultados.\n",
    "- Extraed el números de pedidos que se hayan hecho por dia. Devuelve los resultados en una dataframe.\n",
    "- Extraer los pedidos hechos por \"Nancy Daviolo\". Tendréis que hacer una subquery.\n",
    "- Para finalizar el ejercicio, desconectad la conexión con el servidor."
   ]
  },
  {
   "cell_type": "code",
   "execution_count": 23,
   "metadata": {},
   "outputs": [],
   "source": [
    "mydb = mysql.connector.connect(user = 'root', password = 'AlumnaAdalab', host = '127.0.0.1', \n",
    "                              database = 'northwind')\n",
    "\n",
    "mycursor = mydb.cursor()"
   ]
  },
  {
   "cell_type": "code",
   "execution_count": 25,
   "metadata": {},
   "outputs": [
    {
     "name": "stdout",
     "output_type": "stream",
     "text": [
      "[(10865, 16387.5)]\n"
     ]
    }
   ],
   "source": [
    "query1 = \"\"\"SELECT order_id, SUM(unit_price * quantity - unit_price * quantity * discount)\n",
    "         FROM order_details\n",
    "         GROUP BY order_id\n",
    "         ORDER BY SUM(unit_price * quantity - unit_price * quantity * discount) DESC\n",
    "         LIMIT 1\"\"\"\n",
    "\n",
    "mycursor.execute(query1)\n",
    "\n",
    "myresult1 = mycursor.fetchall()\n",
    "\n",
    "print(myresult1)\n"
   ]
  },
  {
   "cell_type": "code",
   "execution_count": 28,
   "metadata": {},
   "outputs": [
    {
     "name": "stdout",
     "output_type": "stream",
     "text": [
      "[(10865, 16387.5), (10981, 15810.0), (11030, 12615.05), (10889, 11380.0), (10417, 11188.4), (10817, 10952.844964143), (10897, 10835.240000000002), (10479, 10495.6), (10540, 10191.7), (10691, 10164.8), (10515, 9921.29995552), (10372, 9210.900000000001), (10424, 9194.560000000001), (11032, 8902.5), (10514, 8623.45), (10353, 8593.28), (10816, 8446.45), (10360, 7390.2), (11017, 6750.0), (10776, 6635.275), (10607, 6475.400000000001), (10895, 6379.4), (10612, 6375.0), (11021, 6306.24), (10912, 6200.55), (10633, 5510.5924351695), (10893, 5502.11), (10351, 5398.725), (10324, 5275.714941321001), (10678, 5256.5), (11072, 5218.0), (10634, 4985.5), (10687, 4960.9), (10847, 4931.92), (10440, 4924.134942069), (10430, 4899.2), (10993, 4895.4375), (10694, 4825.0), (10979, 4813.5), (10616, 4807.0), (10595, 4725.0), (10510, 4707.540000000001), (10836, 4705.5), (11008, 4680.9), (10666, 4666.9400000000005), (10841, 4581.0), (10329, 4578.43), (10745, 4529.8), (10658, 4464.6), (10711, 4451.7), (10953, 4441.25), (10949, 4422.0), (10657, 4371.6), (10762, 4337.0), (11064, 4330.4), (10990, 4288.84995719), (10530, 4180.0), (10518, 4150.05), (10605, 4109.7), (10941, 4011.75), (10458, 3891.0), (10401, 3868.6), (10451, 3849.66), (10672, 3815.25), (10845, 3812.7), (10305, 3741.3), (11056, 3740.0), (10789, 3687.0), (10772, 3603.2200000000003), (10252, 3597.9), (10962, 3584.0), (10988, 3574.8), (10549, 3554.274958185), (10267, 3536.59996704), (10861, 3523.4), (10359, 3471.68), (10718, 3463.0), (10698, 3436.4435000000003), (10709, 3424.0), (10339, 3354.0), (11033, 3232.8), (10524, 3192.65), (10490, 3163.2), (10688, 3160.6), (10886, 3127.5), (10588, 3120.0), (10742, 3118.0), (11039, 3090.0), (10757, 3082.0), (10400, 3063.0), (11053, 3055.0), (10801, 3026.8500000000004), (10286, 3016.0), (10852, 2984.0), (10854, 2966.4999651), (10555, 2944.4), (10802, 2942.8125), (10345, 2924.8), (10760, 2917.0), (10382, 2900.0), (10701, 2864.4999663), (10561, 2844.5), (10316, 2835.0), (10713, 2827.9), (10823, 2826.0), (11012, 2825.3), (10546, 2812.0), (10629, 2775.05), (10805, 2775.0), (10987, 2772.0), (11001, 2769.0), (10637, 2761.9375), (10894, 2753.1), (10938, 2731.875), (10638, 2720.05), (10402, 2713.5), (10302, 2708.7999999999997), (10618, 2697.5), (10831, 2684.4), (10455, 2684.0), (10298, 2645.0), (11007, 2633.9), (10787, 2622.76), (10851, 2603.0), (10393, 2556.95), (10511, 2549.99997), (10703, 2545.0), (10567, 2519.0), (10465, 2518.0), (10398, 2505.6), (10255, 2490.5), (10337, 2467.0), (10570, 2465.25), (10523, 2444.31), (10340, 2436.1800000000003), (11031, 2393.5), (10369, 2390.4), (10598, 2388.5), (10516, 2381.05), (10948, 2362.25), (10796, 2341.364), (10522, 2318.24), (10519, 2314.2), (10746, 2311.7), (10766, 2310.0), (10670, 2301.75), (10344, 2296.0), (10991, 2296.0), (10764, 2286.0), (10601, 2285.0), (10804, 2278.3999992), (10930, 2255.5), (10583, 2237.49998824), (10977, 2233.0), (10855, 2227.8874968425), (10384, 2222.3999999999996), (10533, 2222.2), (10986, 2220.0), (10714, 2205.75), (10748, 2196.0), (10290, 2169.0), (11028, 2160.0), (10795, 2158.0), (10575, 2147.4), (10558, 2142.9), (10413, 2123.2), (10395, 2122.92), (10419, 2097.6000000000004), (10314, 2094.3), (10390, 2090.88), (10892, 2090.0), (10573, 2082.0), (10693, 2071.19998248), (10872, 2058.46), (10641, 2054.0), (10964, 2052.5), (10503, 2048.5), (10857, 2048.2125), (10361, 2046.2400000000002), (10273, 2037.2800000000002), (10335, 2036.1599999999999), (10773, 2030.4), (11068, 2027.079976152), (10985, 2023.3799999999999), (10452, 2018.5), (10436, 1994.5200000000002), (10593, 1994.3999999999999), (10756, 1990.0), (10871, 1979.23), (10830, 1974.0), (11024, 1966.81), (10877, 1955.125), (10755, 1948.5), (10541, 1946.52), (10513, 1942.0), (10535, 1940.85), (10838, 1938.375), (10921, 1936.0), (10663, 1930.4), (10904, 1924.25), (10868, 1920.6), (10747, 1912.85), (10396, 1903.8000000000002), (10706, 1893.0), (10431, 1892.25), (10731, 1890.5), (10294, 1887.6000000000001), (10997, 1885.0), (10263, 1873.8), (10249, 1863.4), (10729, 1850.0), (10342, 1840.6399999999999), (10449, 1838.2), (11059, 1838.0), (10924, 1835.7), (10389, 1832.8), (10406, 1830.7800000000002), (10791, 1829.757), (10537, 1823.8), (10470, 1820.8), (10418, 1814.8), (11002, 1811.0999939399999), (10327, 1810.0), (10984, 1809.75), (10547, 1792.79999232), (10442, 1792.0), (10932, 1788.6299999999999), (10814, 1788.44998123), (10332, 1786.8799999999999), (10650, 1779.1999999999998), (11041, 1773.0), (10684, 1768.0), (10399, 1765.6), (10829, 1764.0), (10957, 1762.7), (10309, 1762.0), (10566, 1760.9999814), (10441, 1755.0), (11035, 1754.5), (10285, 1743.36), (10971, 1733.0600000000002), (10554, 1728.525), (11055, 1727.5), (10420, 1707.8400000000001), (10660, 1701.0), (10812, 1692.8), (11036, 1692.0), (10368, 1689.78), (10769, 1684.275), (10551, 1677.29998942), (10954, 1659.534983829), (10459, 1659.2), (10330, 1648.9999806), (10536, 1645.0), (10758, 1644.6), (10707, 1640.9999958), (10700, 1638.4), (10751, 1631.484), (10869, 1630.0), (11070, 1629.974983765), (10727, 1624.5), (10408, 1622.4), (10346, 1618.88), (10258, 1614.88), (10312, 1614.8), (10464, 1609.28), (10404, 1591.25), (10750, 1590.5624812874998), (10343, 1584.0), (10457, 1584.0), (10485, 1584.0), (11018, 1575.0), (10722, 1570.0), (10799, 1553.4999979), (10250, 1552.5999826400002), (10362, 1549.6), (10553, 1546.3), (10878, 1539.0), (10461, 1538.7), (10667, 1536.8), (10645, 1535.0), (10786, 1531.08), (10765, 1515.6), (10488, 1512.0), (10475, 1505.1799822920002), (10260, 1504.65), (10543, 1504.4999823), (10626, 1503.6), (10527, 1503.0), (10572, 1501.0849999999998), (10880, 1500.0), (11023, 1500.0), (10734, 1498.35), (10325, 1497.0), (10278, 1488.8), (10784, 1487.9999892), (11046, 1485.8), (10603, 1483.0), (10768, 1477.0), (10481, 1472.0), (10800, 1468.935), (10733, 1459.0), (10272, 1456.0), (10918, 1447.5), (10646, 1446.0), (10253, 1444.8000000000002), (10783, 1442.5), (10429, 1441.375), (10392, 1440.0), (10649, 1434.0), (10834, 1432.714), (10675, 1423.0), (10297, 1420.0), (10740, 1416.0), (10283, 1414.8000000000002), (10499, 1412.0), (10808, 1410.9999834), (10968, 1408.0), (10946, 1407.5), (10686, 1404.45), (10617, 1402.4999835), (11022, 1402.0), (10624, 1393.24), (10504, 1388.5), (10497, 1380.6), (10884, 1378.07), (10270, 1376.0), (10644, 1371.8), (10373, 1366.4), (10989, 1353.6), (11063, 1342.95), (10623, 1336.95), (10779, 1335.0), (11052, 1332.0), (10471, 1328.0), (10635, 1326.225), (10380, 1313.8200000000002), (11045, 1309.5), (10978, 1303.194986833), (10728, 1296.75), (10292, 1296.0), (10715, 1296.0), (10665, 1295.0), (10664, 1288.3874848425), (10681, 1287.4), (11029, 1286.8), (10486, 1272.0), (10717, 1270.75), (10680, 1261.875), (10619, 1260.0), (11077, 1255.7205000000001), (10474, 1249.1), (10564, 1234.05), (10712, 1233.48), (10388, 1228.8), (10659, 1227.02), (10885, 1209.0), (10277, 1200.8), (10999, 1197.95), (10995, 1196.0), (10421, 1194.269994738), (10407, 1194.0), (10803, 1193.01), (10319, 1191.1999999999998), (10627, 1185.74999475), (10596, 1180.8799999999999), (10265, 1176.0), (10929, 1174.75), (10284, 1170.375), (10328, 1168.0), (10357, 1167.68), (10557, 1152.5), (10526, 1151.3999871600001), (10820, 1140.0), (10606, 1130.4), (10919, 1122.8), (10257, 1119.9), (10961, 1119.9), (10303, 1117.8000000000002), (10370, 1117.59999624), (10846, 1112.0), (10356, 1106.4), (10268, 1101.2), (10590, 1101.0), (10966, 1098.4599895239999), (10866, 1096.1999999999998), (10653, 1083.15), (10749, 1080.0), (10859, 1078.6875), (10439, 1078.0), (10560, 1072.425), (10837, 1064.5), (10608, 1064.0), (10387, 1058.4), (10296, 1050.6), (10472, 1036.8), (10444, 1031.7), (10825, 1030.76), (11026, 1030.0), (10944, 1025.325), (10423, 1020.0), (10982, 1014.0), (10580, 1013.7449999999999), (10736, 997.0), (10696, 996.0), (10326, 982.0), (10781, 975.88), (10842, 975.0), (10849, 967.8189943786), (10411, 966.8), (10563, 965.0), (10469, 956.6749887450001), (10304, 954.4), (10364, 950.0), (10529, 946.0), (10994, 940.5), (10338, 934.5), (10901, 934.5), (11011, 933.5), (10903, 932.05), (10828, 932.0), (10848, 931.5), (11066, 928.75), (10721, 923.875), (10933, 920.6), (10671, 920.1), (10876, 917.0), (10447, 914.4), (10494, 912.0), (10976, 912.0), (10967, 910.4), (10833, 906.9300000000001), (11000, 903.75), (10630, 903.6), (10383, 899.0), (10882, 892.6399936160001), (10569, 890.0), (10487, 889.7), (10552, 880.5), (10692, 878.0), (11027, 877.7249999999999), (10333, 877.2), (10774, 868.75), (10377, 863.59998984), (10902, 863.4299898419999), (10379, 863.28), (10690, 862.5), (10890, 860.1), (10911, 858.0), (11058, 858.0), (10403, 855.0149899410001), (10811, 852.0), (10492, 851.2), (10433, 851.1999999999999), (10293, 848.7), (10965, 848.0), (10835, 845.8), (10719, 844.2525), (10827, 843.0), (10576, 838.45), (10556, 835.1999999999999), (10367, 834.1999999999999), (10818, 833.0), (10839, 827.55), (10287, 818.999993), (10525, 818.4), (11047, 817.875), (10502, 816.3), (10643, 814.5), (10347, 814.4199924279999), (10677, 813.3649904309999), (10591, 812.5), (11050, 810.0), (10611, 808.0), (10587, 807.38), (10697, 805.425), (10410, 802.0), (10685, 801.1), (10927, 800.0), (10931, 799.19999748), (10532, 796.35), (11076, 792.75), (10958, 781.0), (10913, 768.75), (10574, 764.3), (10621, 758.5), (10480, 756.0), (10301, 755.0), (10896, 750.5), (10507, 749.0624911875), (10923, 748.8), (10922, 742.5), (10744, 735.9999999999999), (10844, 735.0), (11038, 732.6), (10788, 731.5), (10826, 730.0), (10790, 722.4999915), (10983, 720.89999496), (10416, 720.0), (10780, 720.0), (10597, 718.08), (10468, 717.6), (10975, 717.5), (10397, 716.719991568), (10463, 713.3), (10943, 711.0), (10875, 709.55), (10640, 708.75), (10716, 706.0), (10642, 696.0), (10264, 695.624998075), (10385, 691.2), (10916, 686.7), (10998, 686.0), (10550, 683.3), (10821, 678.0), (10956, 677.0), (10909, 670.0), (10483, 668.8), (10908, 663.1), (10679, 660.0), (10856, 660.0), (10726, 655.0), (10251, 654.06), (10427, 651.0), (10858, 649.0), (11010, 645.0), (10937, 644.8), (10269, 642.2), (10350, 642.06), (10695, 642.0), (10565, 639.9), (10724, 638.5), (10939, 637.4999925), (10647, 636.0), (11020, 632.39999256), (10435, 631.6), (10636, 629.5), (10850, 628.9999926), (10668, 625.275), (10853, 625.0), (11015, 622.35), (10935, 619.5), (11009, 616.5), (10763, 616.0), (10280, 613.2), (10879, 611.3), (10493, 608.4000000000001), (10300, 608.0), (10888, 605.0), (10656, 604.2149999999999), (10813, 602.4), (10654, 601.83), (10704, 595.5), (10584, 593.75), (11044, 591.5999999999999), (10632, 589.0), (11005, 586.0), (10262, 584.0), (10862, 581.0), (10498, 575.0), (10669, 570.0), (10577, 569.0), (10354, 568.8), (10594, 565.5), (10661, 562.6), (10622, 560.0), (10942, 560.0), (10996, 560.0), (10477, 558.0), (10456, 557.5999934399999), (10254, 556.619995428), (10571, 550.5874935225), (10720, 550.0), (10915, 539.5), (11034, 539.4), (10274, 538.6), (10914, 537.5), (10735, 536.4), (10676, 534.85), (10512, 525.29999382), (11048, 525.0), (10500, 523.26), (10559, 520.41), (10860, 519.0), (10256, 517.8), (10443, 517.4399999999999), (10315, 516.8), (10592, 516.4675), (10320, 516.0), (10926, 514.4), (11061, 510.0), (10761, 507.0), (10639, 500.0), (10934, 500.0), (10306, 498.5), (11075, 498.09999414), (10291, 497.52000000000004), (10599, 493.0), (11016, 491.5), (10562, 488.7), (10432, 485.0), (11071, 484.5), (10730, 484.26250000000005), (10355, 480.0), (10600, 479.8), (10625, 479.75), (10289, 479.4), (10578, 477.0), (10819, 477.0), (10925, 475.14999441), (10832, 475.11), (10689, 472.5), (10478, 471.2), (10952, 471.2), (10542, 469.11), (10723, 468.45), (10534, 465.7), (10614, 464.0), (10374, 459.0), (10951, 458.755), (10936, 456.0), (10438, 453.99999999999994), (10910, 452.9), (10628, 450.0), (10261, 448.0), (10363, 447.2), (10798, 446.6), (10448, 443.4), (10394, 442.0), (10863, 441.14999480999995), (10248, 440.0), (10806, 439.6), (10489, 439.20000000000005), (10974, 439.0), (10358, 429.40000000000003), (10906, 427.5), (10450, 425.12), (10307, 424.0), (10609, 424.0), (10276, 420.0), (10797, 420.0), (10544, 417.2), (10506, 415.8), (10673, 412.35), (10453, 407.7), (11062, 406.4), (11042, 405.75), (10365, 403.20000000000005), (10405, 400.0), (10792, 399.85), (10376, 399.0), (10651, 397.8), (10437, 393.0), (10528, 392.2), (10920, 390.0), (10785, 387.5), (10484, 386.2), (10705, 378.0), (10682, 375.5), (10648, 372.374999325), (10891, 368.9325), (10917, 365.89), (10348, 363.59999784), (11013, 361.0), (10425, 360.0), (10732, 360.0), (10940, 360.0), (11069, 360.0), (10539, 355.5), (10613, 353.2), (10341, 352.59999604), (10517, 352.0), (10279, 351.0), (10299, 349.5), (10266, 346.55999999999995), (10771, 344.0), (10905, 342.0), (10426, 338.20000000000005), (10375, 338.0), (10873, 336.8), (10310, 336.0), (10412, 334.8), (10454, 331.2), (10582, 330.0), (10702, 330.0), (11006, 329.685), (11003, 326.0), (10434, 321.119997408), (10759, 320.0), (10409, 319.20000000000005), (10743, 319.2), (10652, 318.835), (10579, 317.75), (10794, 314.76), (10581, 310.0), (10874, 310.0), (11054, 305.0), (11073, 300.0), (10610, 299.25), (11004, 295.38), (10275, 291.84000000000003), (10973, 291.55), (10317, 288.0), (10725, 287.8), (10336, 285.12), (10864, 282.0), (10495, 278.0), (11049, 273.6), (11025, 270.0), (10311, 268.79999999999995), (11060, 266.0), (10960, 265.35), (10491, 259.504996947), (10752, 252.0), (10972, 251.5), (10824, 250.8), (10980, 248.0), (10446, 246.23999999999998), (10945, 245.0), (11014, 243.17999999999998), (10318, 240.4), (10548, 240.1), (10508, 240.0), (10739, 240.0), (10822, 237.89999999999998), (10770, 236.25), (10467, 235.2), (11074, 232.08499999999998), (10604, 230.85), (10473, 230.39999999999998), (10741, 228.0), (10775, 228.0), (10521, 225.5), (10414, 224.83), (10777, 224.0), (10970, 224.0), (10947, 220.0), (10466, 216.0), (10840, 211.2), (10545, 210.0), (11043, 210.0), (10520, 200.0), (11040, 200.0), (10428, 192.0), (10793, 191.1), (10496, 190.0), (11065, 189.42000000000002), (10810, 187.0), (10313, 182.39999999999998), (10476, 180.48), (10708, 180.4), (10460, 176.1), (10445, 174.9), (10386, 166.0), (10323, 164.4), (10870, 160.0), (10843, 159.0), (10462, 156.00000000000003), (10282, 155.39999999999998), (10568, 155.0), (10655, 154.4), (10881, 150.0), (10501, 149.0), (10505, 147.89999999999998), (10482, 147.0), (10334, 144.8), (10321, 144.0), (10585, 142.5), (10349, 141.60000000000002), (10809, 140.0), (10538, 139.8), (10737, 139.8), (10928, 137.5), (10509, 136.8), (10352, 136.29999881999998), (10366, 136.0), (10959, 131.74999845), (10662, 125.0), (10899, 122.39999856), (10295, 121.6), (10615, 120.0), (10699, 114.0), (10322, 112.0), (10381, 112.0), (10531, 110.0), (10950, 110.0), (10907, 108.5), (10969, 108.0), (10378, 103.19999999999999), (10415, 102.4), (10259, 100.8), (10867, 98.39999999999999), (10778, 96.5), (10710, 93.5), (10308, 88.8), (10331, 88.5), (10753, 88.0), (11067, 86.85000000000001), (10281, 86.5), (10391, 86.39999999999999), (10288, 80.1), (11019, 76.0), (10955, 74.4), (10371, 72.96), (10589, 72.0), (10887, 70.0), (10992, 69.6), (10683, 63.0), (11037, 60.0), (10963, 57.79999932), (10620, 57.5), (10631, 55.8), (10754, 55.199999999999996), (10738, 52.349999999999994), (10422, 49.8), (10602, 48.75), (10271, 48.0), (10674, 45.0), (11057, 45.0), (10815, 40.0), (10883, 36.0), (11051, 36.0), (10900, 33.75), (10898, 30.0), (10767, 28.0), (10586, 23.799999720000002), (10807, 18.4), (10782, 12.5)]\n"
     ]
    }
   ],
   "source": [
    "query2 = \"\"\"SELECT order_id, SUM(unit_price * quantity - unit_price * quantity * discount) AS cantidad_gastada\n",
    "         FROM order_details\n",
    "         GROUP BY order_id\n",
    "         ORDER BY SUM(unit_price * quantity - unit_price * quantity * discount) DESC\"\"\"\n",
    "\n",
    "mycursor.execute(query2)\n",
    "\n",
    "myresult2 = mycursor.fetchall()\n",
    "\n",
    "print(myresult2)\n"
   ]
  },
  {
   "cell_type": "code",
   "execution_count": 31,
   "metadata": {},
   "outputs": [
    {
     "ename": "ModuleNotFoundError",
     "evalue": "No module named 'pandas'",
     "output_type": "error",
     "traceback": [
      "\u001b[1;31m---------------------------------------------------------------------------\u001b[0m",
      "\u001b[1;31mModuleNotFoundError\u001b[0m                       Traceback (most recent call last)",
      "Cell \u001b[1;32mIn [31], line 1\u001b[0m\n\u001b[1;32m----> 1\u001b[0m \u001b[39mimport\u001b[39;00m \u001b[39mpandas\u001b[39;00m \u001b[39mas\u001b[39;00m \u001b[39mpd\u001b[39;00m\n",
      "\u001b[1;31mModuleNotFoundError\u001b[0m: No module named 'pandas'"
     ]
    }
   ],
   "source": [
    "import pandas as pd"
   ]
  },
  {
   "cell_type": "code",
   "execution_count": 29,
   "metadata": {},
   "outputs": [
    {
     "ename": "ModuleNotFoundError",
     "evalue": "No module named 'pandas'",
     "output_type": "error",
     "traceback": [
      "\u001b[1;31m---------------------------------------------------------------------------\u001b[0m",
      "\u001b[1;31mModuleNotFoundError\u001b[0m                       Traceback (most recent call last)",
      "Cell \u001b[1;32mIn [29], line 1\u001b[0m\n\u001b[1;32m----> 1\u001b[0m \u001b[39mimport\u001b[39;00m \u001b[39mpandas\u001b[39;00m \u001b[39mas\u001b[39;00m \u001b[39mpd\u001b[39;00m\n\u001b[0;32m      2\u001b[0m query3 \u001b[39m=\u001b[39m \u001b[39m\"\"\"\u001b[39m\u001b[39mSELECT COUNT(order_id), order_date\u001b[39m\n\u001b[0;32m      3\u001b[0m \u001b[39m            FROM orders\u001b[39m\n\u001b[0;32m      4\u001b[0m \u001b[39m            GROUP BY order_date\u001b[39m\n\u001b[0;32m      5\u001b[0m \u001b[39m            ORDER BY order_date\u001b[39m\u001b[39m\"\"\"\u001b[39m\n\u001b[0;32m      6\u001b[0m mycursor\u001b[39m.\u001b[39mexecute(query3)\n",
      "\u001b[1;31mModuleNotFoundError\u001b[0m: No module named 'pandas'"
     ]
    }
   ],
   "source": [
    "import pandas as pd\n",
    "query3 = \"\"\"SELECT COUNT(order_id), order_date\n",
    "            FROM orders\n",
    "            GROUP BY order_date\n",
    "            ORDER BY order_date\"\"\"\n",
    "mycursor.execute(query3)\n",
    "myresult3 = mycursor.fetchall()\n",
    "df3 = pd.DataFrame(myresult3, columns = ['Número pedidos', 'Día pedido'])\n",
    "df3"
   ]
  },
  {
   "cell_type": "code",
   "execution_count": null,
   "metadata": {},
   "outputs": [],
   "source": [
    "mycursor.close()\n",
    "mydb.close()"
   ]
  }
 ],
 "metadata": {
  "kernelspec": {
   "display_name": "Python 3.10.8 64-bit (microsoft store)",
   "language": "python",
   "name": "python3"
  },
  "language_info": {
   "codemirror_mode": {
    "name": "ipython",
    "version": 3
   },
   "file_extension": ".py",
   "mimetype": "text/x-python",
   "name": "python",
   "nbconvert_exporter": "python",
   "pygments_lexer": "ipython3",
   "version": "3.10.8"
  },
  "orig_nbformat": 4,
  "vscode": {
   "interpreter": {
    "hash": "1ea59b95c08c44cbfc884ec03159e00f96e4bf3b6d22daf6aa1f91dffc766d1d"
   }
  }
 },
 "nbformat": 4,
 "nbformat_minor": 2
}
